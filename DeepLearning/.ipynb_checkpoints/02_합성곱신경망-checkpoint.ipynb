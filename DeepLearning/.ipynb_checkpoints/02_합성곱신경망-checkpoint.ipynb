{
 "cells": [
  {
   "cell_type": "markdown",
   "metadata": {},
   "source": [
    "### <span style= \"color :red\"> 합성곱신경망 </span>\n",
    "- 무작위 가중치를 가지는 커널을 이용해 해당 <span style= \"color :blue\">데이터에서 중요한 특성만을 추출</span>하여 특성 맵을 만드는 신경망 알고리즘<br><br>\n",
    "- 패딩 : 입력 배열의 주위를 가상의 원소로 채우는 것 \n",
    "    - same : 입력과 특성 맵의 크기를 동일하게 만들기 위해 입력 주위에 0으로 패딩하는 것\n",
    "    - valid : 순수한 입력 배열에서만 합성곱을 하여 특성 맵을 만드는 경우<br><br>\n",
    "- 스트라이드 : 커널이 이동하는 크기 (default = 1)"
   ]
  },
  {
   "cell_type": "code",
   "execution_count": 9,
   "metadata": {},
   "outputs": [],
   "source": [
    "from tensorflow import keras \n",
    "Conv = keras.layers.Conv2D(10,                      # 필터의 갯수 \n",
    "                           kernel_size =(3,3),      # 커널의 크기 \n",
    "                           activation=\"relu\",       # 활성함수\n",
    "                           padding = \"same\"         # 패딩 \n",
    "                           )   "
   ]
  },
  {
   "cell_type": "markdown",
   "metadata": {},
   "source": [
    "### <span style= \"color :red\"> 풀링 </span>\n",
    "- 특성 맵의 갯수는 유지한체 가로세로 크기를 줄이는 역할 \n",
    "- 가로세로가 같으면 정수하나로, 다른 경우엔 정수의 튜플형태로 매개변수를 지정\n",
    "- 풀링에는 가중치가 존재하지 않음\n",
    "- 커널의 영역에서 가장 큰 값을 고르거나 평균값을 계산하는 것 \n",
    "- 풀링에서는 겹치지 않고 이동한다"
   ]
  },
  {
   "cell_type": "code",
   "execution_count": 10,
   "metadata": {},
   "outputs": [],
   "source": [
    "pool = keras.layers.MaxPool2D(2)                # 가로세로 크기를 절반으로 줄임 "
   ]
  },
  {
   "cell_type": "markdown",
   "metadata": {},
   "source": [
    "### <span style= \"color :red\"> 컬러 이미지를 사용한 합성곱 </span>\n",
    "- 흑백이미지는 2차원 배열 \n",
    "    - 커널의 크기 ex = (2, 2)<br><br>\n",
    "- 컬러이미지는 RGB채널로 구성된 3차원 배열\n",
    "    - 커널의 크기에 가로,세로,깊이가 필요함 (3,3,3)\n",
    "    - <span style= \"color :blue\">중요 : 입력이나 필터의 차원이 몇 개인지 상관없이 항상 출력은 하나의 값이다</span>\n",
    "    - <span style= \"color :blue\">(4,4,3) 크기의 입력에 (3,3,3) 크기의 커널을 이용하면 출력된 특성 맵은 (2,2)이다</span><br><br>\n",
    "\n",
    "- 케라스의 합성곱 층은 항상 3차원 입력을 기대한다 "
   ]
  },
  {
   "cell_type": "code",
   "execution_count": 11,
   "metadata": {},
   "outputs": [
    {
     "name": "stdout",
     "output_type": "stream",
     "text": [
      "(60000, 28, 28) (60000,)\n"
     ]
    }
   ],
   "source": [
    "from tensorflow import keras\n",
    "from sklearn.model_selection import train_test_split\n",
    "\n",
    "(train_input, train_target), (test_input, test_target) = keras.datasets.fashion_mnist.load_data()\n",
    "print(train_input.shape, train_target.shape)\n"
   ]
  },
  {
   "cell_type": "markdown",
   "metadata": {},
   "source": [
    "- 깊이가 있는 이미지 데이터를 위한 데이터 전처리"
   ]
  },
  {
   "cell_type": "code",
   "execution_count": 12,
   "metadata": {},
   "outputs": [
    {
     "name": "stdout",
     "output_type": "stream",
     "text": [
      "(48000, 28, 28, 1) (48000,)\n"
     ]
    }
   ],
   "source": [
    "train_scaled = train_input.reshape(-1, 28, 28, 1) / 255.0\n",
    "\n",
    "train_scaled, val_scaled, train_target, val_target = train_test_split(train_scaled, train_target, test_size=0.2, random_state=42)\n",
    "\n",
    "print(train_scaled.shape, train_target.shape)"
   ]
  },
  {
   "cell_type": "markdown",
   "metadata": {},
   "source": [
    "- 합성곱 신경망 만들기"
   ]
  },
  {
   "cell_type": "code",
   "execution_count": 27,
   "metadata": {},
   "outputs": [
    {
     "name": "stdout",
     "output_type": "stream",
     "text": [
      "Model: \"sequential_2\"\n",
      "_________________________________________________________________\n",
      " Layer (type)                Output Shape              Param #   \n",
      "=================================================================\n",
      " conv2d_6 (Conv2D)           (None, 28, 28, 32)        320       \n",
      "                                                                 \n",
      " max_pooling2d_5 (MaxPooling  (None, 14, 14, 32)       0         \n",
      " 2D)                                                             \n",
      "                                                                 \n",
      " conv2d_7 (Conv2D)           (None, 14, 14, 64)        18496     \n",
      "                                                                 \n",
      " max_pooling2d_6 (MaxPooling  (None, 7, 7, 64)         0         \n",
      " 2D)                                                             \n",
      "                                                                 \n",
      " flatten_2 (Flatten)         (None, 3136)              0         \n",
      "                                                                 \n",
      " dense_4 (Dense)             (None, 100)               313700    \n",
      "                                                                 \n",
      " dropout_2 (Dropout)         (None, 100)               0         \n",
      "                                                                 \n",
      " dense_5 (Dense)             (None, 10)                1010      \n",
      "                                                                 \n",
      "=================================================================\n",
      "Total params: 333,526\n",
      "Trainable params: 333,526\n",
      "Non-trainable params: 0\n",
      "_________________________________________________________________\n"
     ]
    }
   ],
   "source": [
    "from tensorflow import keras\n",
    "model = keras.Sequential()\n",
    "model.add(keras.layers.Conv2D(32,\n",
    "                              kernel_size=(3,3),\n",
    "                              activation=\"relu\",\n",
    "                              padding=\"same\",\n",
    "                              input_shape= (28,28,1)))\n",
    "model.add(keras.layers.MaxPool2D(2))                        # (14,14,32)의 특성맵 출력\n",
    "model.add(keras.layers.Conv2D(64,\n",
    "                              kernel_size=(3,3),\n",
    "                              activation=\"relu\",\n",
    "                              padding=\"same\"))\n",
    "model.add(keras.layers.MaxPool2D(2))                        # (7,7,64)의 특성맵 출력\n",
    "\n",
    "model.add(keras.layers.Flatten())                           # (7*7*64)크기의 1차원 배열로 만듬\n",
    "model.add(keras.layers.Dense(100, activation=\"relu\"))\n",
    "model.add(keras.layers.Dropout(0.5))\n",
    "model.add(keras.layers.Dense(10, activation=\"softmax\"))     # 다중분류를 위한 softmax함수 지정\n",
    "\n",
    "model.summary()"
   ]
  },
  {
   "cell_type": "code",
   "execution_count": 28,
   "metadata": {},
   "outputs": [
    {
     "name": "stdout",
     "output_type": "stream",
     "text": [
      "Epoch 1/20\n",
      "1500/1500 [==============================] - 14s 9ms/step - loss: 0.5859 - accuracy: 0.7908 - val_loss: 0.3341 - val_accuracy: 0.8738\n",
      "Epoch 2/20\n",
      "1500/1500 [==============================] - 14s 10ms/step - loss: 0.3813 - accuracy: 0.8637 - val_loss: 0.2834 - val_accuracy: 0.8954\n",
      "Epoch 3/20\n",
      "1500/1500 [==============================] - 15s 10ms/step - loss: 0.3298 - accuracy: 0.8846 - val_loss: 0.2686 - val_accuracy: 0.8960\n",
      "Epoch 4/20\n",
      "1500/1500 [==============================] - 15s 10ms/step - loss: 0.2926 - accuracy: 0.8937 - val_loss: 0.2510 - val_accuracy: 0.9065\n",
      "Epoch 5/20\n",
      "1500/1500 [==============================] - 14s 10ms/step - loss: 0.2722 - accuracy: 0.9040 - val_loss: 0.2335 - val_accuracy: 0.9146\n",
      "Epoch 6/20\n",
      "1500/1500 [==============================] - 15s 10ms/step - loss: 0.2529 - accuracy: 0.9086 - val_loss: 0.2387 - val_accuracy: 0.9110\n",
      "Epoch 7/20\n",
      "1500/1500 [==============================] - 14s 10ms/step - loss: 0.2328 - accuracy: 0.9138 - val_loss: 0.2266 - val_accuracy: 0.9181\n",
      "Epoch 8/20\n",
      "1500/1500 [==============================] - 14s 10ms/step - loss: 0.2194 - accuracy: 0.9185 - val_loss: 0.2289 - val_accuracy: 0.9177\n",
      "Epoch 9/20\n",
      "1500/1500 [==============================] - 15s 10ms/step - loss: 0.2050 - accuracy: 0.9235 - val_loss: 0.2232 - val_accuracy: 0.9208\n",
      "Epoch 10/20\n",
      "1500/1500 [==============================] - 14s 9ms/step - loss: 0.1919 - accuracy: 0.9273 - val_loss: 0.2240 - val_accuracy: 0.9226\n",
      "Epoch 11/20\n",
      "1500/1500 [==============================] - 14s 9ms/step - loss: 0.1823 - accuracy: 0.9315 - val_loss: 0.2303 - val_accuracy: 0.9222\n"
     ]
    }
   ],
   "source": [
    "model.compile(optimizer=\"adam\", loss=\"sparse_categorical_crossentropy\", metrics=\"accuracy\")\n",
    "\n",
    "check_cb = keras.callbacks.ModelCheckpoint(\"best-cnn-model.h5\")\n",
    "early_stop = keras.callbacks.EarlyStopping(patience=2, restore_best_weights=True)\n",
    "\n",
    "history = model.fit(train_scaled, train_target, verbose=1, epochs=20, validation_data=(val_scaled, val_target),\n",
    "                    callbacks = [check_cb, early_stop])"
   ]
  },
  {
   "cell_type": "markdown",
   "metadata": {},
   "source": [
    "- 훈련 시각화"
   ]
  },
  {
   "cell_type": "code",
   "execution_count": 15,
   "metadata": {},
   "outputs": [
    {
     "data": {
      "image/png": "[encoded data removed]",
      "text/plain": [
       "<Figure size 432x288 with 1 Axes>"
      ]
     },
     "metadata": {
      "needs_background": "light"
     },
     "output_type": "display_data"
    }
   ],
   "source": [
    "import matplotlib.pyplot as plt\n",
    "plt.plot(history.history['loss'], label=\"train\")\n",
    "plt.plot(history.history['val_loss'], label = \"val\")\n",
    "plt.xticks(range(1,20,2))\n",
    "plt.xlabel(\"epoch\")\n",
    "plt.ylabel(\"loss\")\n",
    "plt.legend()\n",
    "plt.show()"
   ]
  },
  {
   "cell_type": "markdown",
   "metadata": {},
   "source": [
    "- 모델 성능 점수"
   ]
  },
  {
   "cell_type": "code",
   "execution_count": 16,
   "metadata": {},
   "outputs": [
    {
     "name": "stdout",
     "output_type": "stream",
     "text": [
      "375/375 [==============================] - 1s 2ms/step - loss: 0.2798 - accuracy: 0.9223\n"
     ]
    },
    {
     "data": {
      "text/plain": [
       "[0.2798251211643219, 0.9223333597183228]"
      ]
     },
     "execution_count": 16,
     "metadata": {},
     "output_type": "execute_result"
    }
   ],
   "source": [
    "model.evaluate(val_scaled, val_target)"
   ]
  },
  {
   "cell_type": "markdown",
   "metadata": {},
   "source": [
    "- 샘플 시각화"
   ]
  },
  {
   "cell_type": "code",
   "execution_count": 17,
   "metadata": {},
   "outputs": [
    {
     "data": {
      "image/png": "[encoded data removed]",
      "text/plain": [
       "<Figure size 432x288 with 1 Axes>"
      ]
     },
     "metadata": {
      "needs_background": "light"
     },
     "output_type": "display_data"
    }
   ],
   "source": [
    "plt.imshow(val_scaled[0], cmap=\"gray_r\")\n",
    "plt.show()"
   ]
  },
  {
   "cell_type": "code",
   "execution_count": 18,
   "metadata": {},
   "outputs": [
    {
     "name": "stdout",
     "output_type": "stream",
     "text": [
      "1/1 [==============================] - 0s 58ms/step\n"
     ]
    },
    {
     "data": {
      "text/plain": [
       "array([[7.17936e-38, 0.00000e+00, 0.00000e+00, 0.00000e+00, 0.00000e+00,\n",
       "        0.00000e+00, 0.00000e+00, 0.00000e+00, 1.00000e+00, 0.00000e+00]],\n",
       "      dtype=float32)"
      ]
     },
     "execution_count": 18,
     "metadata": {},
     "output_type": "execute_result"
    }
   ],
   "source": [
    "pred = model.predict(val_scaled[0:1])\n",
    "pred"
   ]
  },
  {
   "cell_type": "code",
   "execution_count": 19,
   "metadata": {},
   "outputs": [
    {
     "data": {
      "image/png": "[encoded data removed]",
      "text/plain": [
       "<Figure size 432x288 with 1 Axes>"
      ]
     },
     "metadata": {
      "needs_background": "light"
     },
     "output_type": "display_data"
    }
   ],
   "source": [
    "plt.bar(range(1,11), pred[0])\n",
    "plt.xlabel(\"class\")\n",
    "plt.ylabel(\"proba\")\n",
    "plt.show()"
   ]
  },
  {
   "cell_type": "code",
   "execution_count": 20,
   "metadata": {},
   "outputs": [
    {
     "name": "stdout",
     "output_type": "stream",
     "text": [
      "모델 예측 값 :  가방\n",
      "실제 정답 값 :  가방\n"
     ]
    }
   ],
   "source": [
    "import numpy as np\n",
    "classes = ['티셔츠', '바지', '스웨터', '드레스', '코트','샌달', '셔츠', '스니커즈', '가방', '앵클 부츠']\n",
    "pred_idx = np.argmax(pred)\n",
    "\n",
    "print(\"모델 예측 값 : \",classes[pred_idx])\n",
    "print(\"실제 정답 값 : \",classes[val_target[0]])"
   ]
  },
  {
   "cell_type": "markdown",
   "metadata": {},
   "source": [
    "- 모델 테스트 점수"
   ]
  },
  {
   "cell_type": "code",
   "execution_count": 21,
   "metadata": {},
   "outputs": [
    {
     "name": "stdout",
     "output_type": "stream",
     "text": [
      "313/313 [==============================] - 1s 2ms/step - loss: 0.3167 - accuracy: 0.9162\n"
     ]
    },
    {
     "data": {
      "text/plain": [
       "[0.31670013070106506, 0.9161999821662903]"
      ]
     },
     "execution_count": 21,
     "metadata": {},
     "output_type": "execute_result"
    }
   ],
   "source": [
    "test_scaled = test_input.reshape(-1,28,28,1)/255.0\n",
    "\n",
    "model.evaluate(test_scaled, test_target)"
   ]
  },
  {
   "cell_type": "markdown",
   "metadata": {},
   "source": [
    "### <span style= \"color :red\"> 합성곱 신경망의 시각화</span>\n"
   ]
  },
  {
   "cell_type": "code",
   "execution_count": 29,
   "metadata": {},
   "outputs": [],
   "source": [
    "from tensorflow import keras\n",
    "model = keras.models.load_model(\"./best-cnn-model.h5\")"
   ]
  },
  {
   "cell_type": "markdown",
   "metadata": {},
   "source": [
    "- 모델 층 확인"
   ]
  },
  {
   "cell_type": "code",
   "execution_count": 30,
   "metadata": {},
   "outputs": [
    {
     "data": {
      "text/plain": [
       "[<keras.layers.convolutional.conv2d.Conv2D at 0x20a2d1dc970>,\n",
       " <keras.layers.pooling.max_pooling2d.MaxPooling2D at 0x20a2f9c7f70>,\n",
       " <keras.layers.convolutional.conv2d.Conv2D at 0x20a2fa32a90>,\n",
       " <keras.layers.pooling.max_pooling2d.MaxPooling2D at 0x20a2fa92c40>,\n",
       " <keras.layers.reshaping.flatten.Flatten at 0x20a2fa92df0>,\n",
       " <keras.layers.core.dense.Dense at 0x20a2fa98a00>,\n",
       " <keras.layers.regularization.dropout.Dropout at 0x20a35ef6fa0>,\n",
       " <keras.layers.core.dense.Dense at 0x20a2fa32fd0>]"
      ]
     },
     "execution_count": 30,
     "metadata": {},
     "output_type": "execute_result"
    }
   ],
   "source": [
    "model.layers"
   ]
  },
  {
   "cell_type": "markdown",
   "metadata": {},
   "source": [
    "- 합성곱 신경망 층의 가중치와 절편 확인"
   ]
  },
  {
   "cell_type": "code",
   "execution_count": 37,
   "metadata": {},
   "outputs": [
    {
     "name": "stdout",
     "output_type": "stream",
     "text": [
      "커널 크기, 커널 갯수 :  (3, 3, 1, 32)\n",
      "절편 갯수 :  (32,)\n"
     ]
    }
   ],
   "source": [
    "conv = model.layers[0]\n",
    "print(\"커널 크기, 커널 갯수 : \",conv.weights[0].shape) \n",
    "print(\"절편 갯수 : \",conv.weights[1].shape)"
   ]
  },
  {
   "cell_type": "code",
   "execution_count": 58,
   "metadata": {},
   "outputs": [
    {
     "data": {
      "text/plain": [
       "(-0.047913782, 0.32221517)"
      ]
     },
     "execution_count": 58,
     "metadata": {},
     "output_type": "execute_result"
    }
   ],
   "source": [
    "conv_weights = conv.weights[0].numpy()\n",
    "conv_weights.mean(),conv_weights.std() "
   ]
  },
  {
   "cell_type": "code",
   "execution_count": 59,
   "metadata": {},
   "outputs": [
    {
     "data": {
      "image/png": "[encoded data removed]",
      "text/plain": [
       "<Figure size 432x288 with 1 Axes>"
      ]
     },
     "metadata": {
      "needs_background": "light"
     },
     "output_type": "display_data"
    }
   ],
   "source": [
    "import matplotlib.pyplot as plt\n",
    "plt.hist(conv_weights.reshape(-1,1))\n",
    "plt.show()"
   ]
  },
  {
   "cell_type": "markdown",
   "metadata": {},
   "source": [
    "- 32개 커널을 시각화"
   ]
  },
  {
   "cell_type": "code",
   "execution_count": 61,
   "metadata": {},
   "outputs": [
    {
     "data": {
      "image/png": "[encoded data removed]",
      "text/plain": [
       "<Figure size 1080x144 with 32 Axes>"
      ]
     },
     "metadata": {
      "needs_background": "light"
     },
     "output_type": "display_data"
    }
   ],
   "source": [
    "fig, axs = plt.subplots(2,16, figsize=(15,2))\n",
    "for i in range(2):\n",
    "    for j in range(16):\n",
    "        axs[i,j].imshow(conv_weights[:,:,0,i*16 +j], vmin=-0.5, vmax=0.5)\n",
    "        axs[i,j].axis(\"off\")\n",
    "plt.show()"
   ]
  },
  {
   "cell_type": "code",
   "execution_count": 72,
   "metadata": {},
   "outputs": [
    {
     "data": {
      "text/plain": [
       "array([[ 0.13550018,  0.21395811, -0.3052011 ],\n",
       "       [ 0.31135818, -0.15956022, -0.1443284 ],\n",
       "       [-0.03808546, -0.02299174,  0.04328725]], dtype=float32)"
      ]
     },
     "execution_count": 72,
     "metadata": {},
     "output_type": "execute_result"
    }
   ],
   "source": [
    "conv_weights[:,:,0,1]"
   ]
  },
  {
   "cell_type": "markdown",
   "metadata": {},
   "source": [
    "### <span style= \"color :red\"> 특성맵 시각화</span>\n"
   ]
  },
  {
   "cell_type": "code",
   "execution_count": 76,
   "metadata": {},
   "outputs": [
    {
     "name": "stdout",
     "output_type": "stream",
     "text": [
      "(60000, 28, 28) (60000,)\n"
     ]
    },
    {
     "data": {
      "image/png": "[encoded data removed]",
      "text/plain": [
       "<Figure size 432x288 with 1 Axes>"
      ]
     },
     "metadata": {
      "needs_background": "light"
     },
     "output_type": "display_data"
    }
   ],
   "source": [
    "(train_input, train_target),(test_input,test_target) = keras.datasets.fashion_mnist.load_data()\n",
    "print(train_input.shape, train_target.shape)\n",
    "\n",
    "import matplotlib.pyplot as plt\n",
    "plt.imshow(train_input[0], cmap=\"gray_r\")\n",
    "plt.show()"
   ]
  },
  {
   "cell_type": "code",
   "execution_count": 83,
   "metadata": {},
   "outputs": [
    {
     "name": "stdout",
     "output_type": "stream",
     "text": [
      "KerasTensor(type_spec=TensorSpec(shape=(None, 28, 28, 1), dtype=tf.float32, name='conv2d_6_input'), name='conv2d_6_input', description=\"created by layer 'conv2d_6_input'\")\n",
      "KerasTensor(type_spec=TensorSpec(shape=(None, 10), dtype=tf.float32, name=None), name='dense_5/Softmax:0', description=\"created by layer 'dense_5'\")\n"
     ]
    }
   ],
   "source": [
    "print(model.input)      # 입력층 \n",
    "print(model.output)     # 출력층\n",
    "\n",
    "conv_acti = keras.Model(model.input, model.layers[0].output)"
   ]
  },
  {
   "cell_type": "code",
   "execution_count": 80,
   "metadata": {},
   "outputs": [
    {
     "name": "stdout",
     "output_type": "stream",
     "text": [
      "(1, 28, 28, 1)\n"
     ]
    }
   ],
   "source": [
    "inputs= train_input[0:1].reshape(-1,28,28,1)/255.0\n",
    "print(inputs.shape)"
   ]
  },
  {
   "cell_type": "code",
   "execution_count": 85,
   "metadata": {},
   "outputs": [
    {
     "name": "stdout",
     "output_type": "stream",
     "text": [
      "1/1 [==============================] - 0s 9ms/step\n"
     ]
    },
    {
     "data": {
      "text/plain": [
       "(1, 28, 28, 32)"
      ]
     },
     "execution_count": 85,
     "metadata": {},
     "output_type": "execute_result"
    }
   ],
   "source": [
    "feature_map = conv_acti.predict(inputs)\n",
    "feature_map.shape"
   ]
  },
  {
   "cell_type": "code",
   "execution_count": 89,
   "metadata": {},
   "outputs": [
    {
     "data": {
      "image/png": "[encoded data removed]",
      "text/plain": [
       "<Figure size 1080x144 with 32 Axes>"
      ]
     },
     "metadata": {
      "needs_background": "light"
     },
     "output_type": "display_data"
    }
   ],
   "source": [
    "fig, axs = plt.subplots(2,16, figsize=(15,2))\n",
    "for i in range(2):\n",
    "    for j in range(16):\n",
    "        axs[i,j].imshow(feature_map[0,:,:,i*16 +j], vmin=-0.5, vmax=0.5)\n",
    "        axs[i,j].axis(\"off\")\n",
    "plt.show()"
   ]
  },
  {
   "cell_type": "code",
   "execution_count": 92,
   "metadata": {},
   "outputs": [
    {
     "name": "stdout",
     "output_type": "stream",
     "text": [
      "1/1 [==============================] - 0s 34ms/step\n"
     ]
    },
    {
     "data": {
      "text/plain": [
       "(1, 14, 14, 64)"
      ]
     },
     "execution_count": 92,
     "metadata": {},
     "output_type": "execute_result"
    }
   ],
   "source": [
    "conv2_acti = keras.Model(model.input, model.layers[2].output)\n",
    "inputs= train_input[0:1].reshape(-1,28,28,1)/255.0\n",
    "\n",
    "feature_map = conv2_acti.predict(inputs)\n",
    "feature_map.shape"
   ]
  },
  {
   "cell_type": "code",
   "execution_count": 97,
   "metadata": {},
   "outputs": [
    {
     "data": {
      "image/png": "[encoded data removed]",
      "text/plain": [
       "<Figure size 576x576 with 64 Axes>"
      ]
     },
     "metadata": {
      "needs_background": "light"
     },
     "output_type": "display_data"
    }
   ],
   "source": [
    "fig, axs = plt.subplots(8,8, figsize=(8,8))\n",
    "for i in range(8):\n",
    "    for j in range(8):\n",
    "        axs[i,j].imshow(feature_map[0,:,:,i*8+j])\n",
    "        axs[i,j].axis(\"off\")\n",
    "plt.show()"
   ]
  },
  {
   "cell_type": "code",
   "execution_count": null,
   "metadata": {},
   "outputs": [],
   "source": []
  }
 ],
 "metadata": {
  "kernelspec": {
   "display_name": "Python 3 (ipykernel)",
   "language": "python",
   "name": "python3"
  },
  "language_info": {
   "codemirror_mode": {
    "name": "ipython",
    "version": 3
   },
   "file_extension": ".py",
   "mimetype": "text/x-python",
   "name": "python",
   "nbconvert_exporter": "python",
   "pygments_lexer": "ipython3",
   "version": "3.7.13"
  },
  "vscode": {
   "interpreter": {
    "hash": "8df4e0e0c796e2e15924145e6441c62a115ba500877f31d29fc14fd3395fcd67"
   }
  }
 },
 "nbformat": 4,
 "nbformat_minor": 2
}

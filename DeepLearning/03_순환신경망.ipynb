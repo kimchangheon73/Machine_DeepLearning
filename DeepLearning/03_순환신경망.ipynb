{
 "cells": [
  {
   "cell_type": "markdown",
   "metadata": {},
   "source": [
    "# <span style= \"color :red\"> 순환신경망 </span>\n",
    "- 여러개의 데이터가 순서대로 입력되었을 때 앞서 입력받은 데이터를 잠시 기억해 놓는 방법\n",
    "- 장점 : 입력과 출력을 설정하는 방법에 따라 다수/단일입력 다수/단일출력의 결과에 사용이 가능함"
   ]
  },
  {
   "cell_type": "markdown",
   "metadata": {},
   "source": [
    "### <span style= \"color :red\"> reuter 뉴스 실습 </span>\n"
   ]
  },
  {
   "cell_type": "code",
   "execution_count": 13,
   "metadata": {},
   "outputs": [
    {
     "name": "stdout",
     "output_type": "stream",
     "text": [
      "총 카테고리 :  46\n",
      "(8982,) (8982,)\n",
      "(2246,) (2246,)\n",
      "[1, 2, 2, 8, 43, 10, 447, 5, 25, 207, 270, 5, 2, 111, 16, 369, 186, 90, 67, 7, 89, 5, 19, 102, 6, 19, 124, 15, 90, 67, 84, 22, 482, 26, 7, 48, 4, 49, 8, 864, 39, 209, 154, 6, 151, 6, 83, 11, 15, 22, 155, 11, 15, 7, 48, 9, 2, 2, 504, 6, 258, 6, 272, 11, 15, 22, 134, 44, 11, 15, 16, 8, 197, 2, 90, 67, 52, 29, 209, 30, 32, 132, 6, 109, 15, 17, 12]\n"
     ]
    }
   ],
   "source": [
    "from tensorflow.keras.datasets import reuters\n",
    "import numpy as np \n",
    "\n",
    "(x_train, y_train), (x_test, y_test) = reuters.load_data(num_words=1000, test_split=0.2)\n",
    "\n",
    "# 데이터 확인 \n",
    "print(\"총 카테고리 : \",np.max(y_train) + 1)\n",
    "print(x_train.shape, y_train.shape)         # 학습데이터\n",
    "print(x_test.shape, y_test.shape)           # 테스트데이터\n",
    "print(x_train[0])\n"
   ]
  },
  {
   "cell_type": "markdown",
   "metadata": {},
   "source": [
    "- 길이 맞춰주기"
   ]
  },
  {
   "cell_type": "code",
   "execution_count": 14,
   "metadata": {},
   "outputs": [
    {
     "name": "stdout",
     "output_type": "stream",
     "text": [
      "(8982, 100) (2246, 100)\n"
     ]
    }
   ],
   "source": [
    "from tensorflow.keras.preprocessing import sequence\n",
    "\n",
    "# 단어의 수를 맞춰줌\n",
    "x_train = sequence.pad_sequences(x_train, maxlen=100)\n",
    "x_test = sequence.pad_sequences(x_test, maxlen=100)\n",
    "\n",
    "print(x_train.shape, x_test.shape)"
   ]
  },
  {
   "cell_type": "markdown",
   "metadata": {},
   "source": [
    "- 원핫인코딩을 처리 "
   ]
  },
  {
   "cell_type": "code",
   "execution_count": 7,
   "metadata": {},
   "outputs": [
    {
     "name": "stdout",
     "output_type": "stream",
     "text": [
      "(8982, 46) (2246, 46)\n"
     ]
    }
   ],
   "source": [
    "from tensorflow.keras.utils import to_categorical\n",
    "y_train = to_categorical(y_train)\n",
    "y_test = to_categorical(y_test)\n",
    "\n",
    "print(y_train.shape, y_test.shape)\n"
   ]
  },
  {
   "cell_type": "markdown",
   "metadata": {},
   "source": [
    "- 딥러닝 모델을 설정"
   ]
  },
  {
   "cell_type": "code",
   "execution_count": 15,
   "metadata": {},
   "outputs": [
    {
     "name": "stdout",
     "output_type": "stream",
     "text": [
      "Model: \"sequential_1\"\n",
      "_________________________________________________________________\n",
      " Layer (type)                Output Shape              Param #   \n",
      "=================================================================\n",
      " embedding_1 (Embedding)     (None, None, 10)          10000     \n",
      "                                                                 \n",
      " lstm_1 (LSTM)               (None, 100)               44400     \n",
      "                                                                 \n",
      " dense_1 (Dense)             (None, 46)                4646      \n",
      "                                                                 \n",
      "=================================================================\n",
      "Total params: 59,046\n",
      "Trainable params: 59,046\n",
      "Non-trainable params: 0\n",
      "_________________________________________________________________\n"
     ]
    }
   ],
   "source": [
    "from tensorflow import keras\n",
    "model = keras.Sequential()\n",
    "model.add(keras.layers.Embedding(1000, 10))\n",
    "model.add(keras.layers.LSTM(100, activation = \"tanh\"))\n",
    "model.add(keras.layers.Dense(46, activation = \"softmax\"))\n",
    "\n",
    "model.compile(optimizer=\"adam\", loss = \"sparse_categorical_crossentropy\", metrics= \"accuracy\")\n",
    "\n",
    "model.summary()"
   ]
  },
  {
   "cell_type": "code",
   "execution_count": 16,
   "metadata": {},
   "outputs": [
    {
     "name": "stdout",
     "output_type": "stream",
     "text": [
      "Epoch 1/200\n",
      "450/450 [==============================] - 10s 20ms/step - loss: 2.4245 - accuracy: 0.3606 - val_loss: 2.1553 - val_accuracy: 0.4782\n",
      "Epoch 2/200\n",
      "450/450 [==============================] - 8s 19ms/step - loss: 1.9982 - accuracy: 0.4899 - val_loss: 1.8542 - val_accuracy: 0.5303\n",
      "Epoch 3/200\n",
      "450/450 [==============================] - 9s 19ms/step - loss: 1.8753 - accuracy: 0.5237 - val_loss: 1.8393 - val_accuracy: 0.5441\n",
      "Epoch 4/200\n",
      "450/450 [==============================] - 9s 19ms/step - loss: 1.8537 - accuracy: 0.5292 - val_loss: 2.3818 - val_accuracy: 0.4541\n",
      "Epoch 5/200\n",
      "450/450 [==============================] - 9s 19ms/step - loss: 2.1376 - accuracy: 0.4585 - val_loss: 1.9064 - val_accuracy: 0.5191\n",
      "Epoch 6/200\n",
      "450/450 [==============================] - 8s 19ms/step - loss: 1.8013 - accuracy: 0.5305 - val_loss: 1.7763 - val_accuracy: 0.5481\n",
      "Epoch 7/200\n",
      "450/450 [==============================] - 9s 19ms/step - loss: 1.7205 - accuracy: 0.5410 - val_loss: 1.7485 - val_accuracy: 0.5534\n",
      "Epoch 8/200\n",
      "450/450 [==============================] - 8s 19ms/step - loss: 1.6735 - accuracy: 0.5605 - val_loss: 1.7342 - val_accuracy: 0.5561\n",
      "Epoch 9/200\n",
      "450/450 [==============================] - 8s 19ms/step - loss: 1.6369 - accuracy: 0.5724 - val_loss: 1.6996 - val_accuracy: 0.5614\n",
      "Epoch 10/200\n",
      "450/450 [==============================] - 8s 19ms/step - loss: 1.6000 - accuracy: 0.5797 - val_loss: 1.6474 - val_accuracy: 0.5752\n",
      "Epoch 11/200\n",
      "450/450 [==============================] - 8s 18ms/step - loss: 1.6182 - accuracy: 0.5798 - val_loss: 1.6705 - val_accuracy: 0.5690\n",
      "Epoch 12/200\n",
      "450/450 [==============================] - 8s 19ms/step - loss: 1.5725 - accuracy: 0.5908 - val_loss: 1.6750 - val_accuracy: 0.5726\n",
      "Epoch 13/200\n",
      "450/450 [==============================] - 8s 18ms/step - loss: 1.5392 - accuracy: 0.5973 - val_loss: 1.6259 - val_accuracy: 0.5868\n",
      "Epoch 14/200\n",
      "450/450 [==============================] - 8s 19ms/step - loss: 1.5150 - accuracy: 0.6044 - val_loss: 1.6575 - val_accuracy: 0.5833\n",
      "Epoch 15/200\n",
      "450/450 [==============================] - 8s 18ms/step - loss: 1.4909 - accuracy: 0.6130 - val_loss: 1.6034 - val_accuracy: 0.5957\n",
      "Epoch 16/200\n",
      "450/450 [==============================] - 8s 18ms/step - loss: 1.4540 - accuracy: 0.6229 - val_loss: 1.5878 - val_accuracy: 0.6002\n",
      "Epoch 17/200\n",
      "450/450 [==============================] - 8s 18ms/step - loss: 1.4337 - accuracy: 0.6267 - val_loss: 1.6454 - val_accuracy: 0.5877\n",
      "Epoch 18/200\n",
      "450/450 [==============================] - 9s 19ms/step - loss: 1.3899 - accuracy: 0.6383 - val_loss: 1.5881 - val_accuracy: 0.5895\n",
      "Epoch 19/200\n",
      "450/450 [==============================] - 8s 19ms/step - loss: 1.3686 - accuracy: 0.6437 - val_loss: 1.6146 - val_accuracy: 0.5926\n",
      "Epoch 20/200\n",
      "450/450 [==============================] - 8s 19ms/step - loss: 1.3428 - accuracy: 0.6491 - val_loss: 1.5505 - val_accuracy: 0.6171\n",
      "Epoch 21/200\n",
      "450/450 [==============================] - 8s 19ms/step - loss: 1.3079 - accuracy: 0.6536 - val_loss: 1.5352 - val_accuracy: 0.6149\n",
      "Epoch 22/200\n",
      "450/450 [==============================] - 8s 19ms/step - loss: 1.2874 - accuracy: 0.6620 - val_loss: 1.5901 - val_accuracy: 0.6042\n",
      "Epoch 23/200\n",
      "450/450 [==============================] - 8s 19ms/step - loss: 1.2670 - accuracy: 0.6676 - val_loss: 1.5306 - val_accuracy: 0.6184\n",
      "Epoch 24/200\n",
      "450/450 [==============================] - 8s 19ms/step - loss: 1.2518 - accuracy: 0.6715 - val_loss: 1.5124 - val_accuracy: 0.6313\n",
      "Epoch 25/200\n",
      "450/450 [==============================] - 8s 19ms/step - loss: 1.2177 - accuracy: 0.6795 - val_loss: 1.5287 - val_accuracy: 0.6167\n",
      "Epoch 26/200\n",
      "450/450 [==============================] - 8s 19ms/step - loss: 1.1976 - accuracy: 0.6874 - val_loss: 1.5113 - val_accuracy: 0.6229\n",
      "Epoch 27/200\n",
      "450/450 [==============================] - 8s 19ms/step - loss: 1.1755 - accuracy: 0.6933 - val_loss: 1.5869 - val_accuracy: 0.6055\n",
      "Epoch 28/200\n",
      "450/450 [==============================] - 8s 19ms/step - loss: 1.1595 - accuracy: 0.6955 - val_loss: 1.6541 - val_accuracy: 0.5988\n",
      "Epoch 29/200\n",
      "450/450 [==============================] - 9s 19ms/step - loss: 1.1416 - accuracy: 0.6988 - val_loss: 1.5474 - val_accuracy: 0.6273\n",
      "Epoch 30/200\n",
      "450/450 [==============================] - 8s 19ms/step - loss: 1.1211 - accuracy: 0.7052 - val_loss: 1.5296 - val_accuracy: 0.6318\n",
      "Epoch 31/200\n",
      "450/450 [==============================] - 9s 19ms/step - loss: 1.1116 - accuracy: 0.7099 - val_loss: 1.5292 - val_accuracy: 0.6242\n"
     ]
    }
   ],
   "source": [
    "er_stop = keras.callbacks.EarlyStopping(patience=5, restore_best_weights=True)\n",
    "\n",
    "history = model.fit(x_train, y_train, batch_size=20, epochs=200, validation_data=(x_test, y_test),  callbacks=er_stop)\n"
   ]
  },
  {
   "cell_type": "markdown",
   "metadata": {},
   "source": [
    "- 모델 테스트 평가 및 모델 성능 시각화"
   ]
  },
  {
   "cell_type": "code",
   "execution_count": 12,
   "metadata": {},
   "outputs": [
    {
     "name": "stdout",
     "output_type": "stream",
     "text": [
      "71/71 [==============================] - 1s 7ms/step - loss: 1.2018 - accuracy: 0.6901\n",
      "모델 정확도 :  0.690115749835968\n"
     ]
    },
    {
     "data": {
      "image/png": "[encoded data removed]",
      "text/plain": [
       "<Figure size 432x288 with 1 Axes>"
      ]
     },
     "metadata": {
      "needs_background": "light"
     },
     "output_type": "display_data"
    }
   ],
   "source": [
    "print(\"모델 정확도 : \",model.evaluate(x_test, y_test)[1])\n",
    "\n",
    "y_vloss = history.history['val_loss']\n",
    "y_loss = history.history['loss']\n",
    "\n",
    "import matplotlib.pyplot as plt\n",
    "x_len = np.arange(len(y_vloss))\n",
    "plt.plot(x_len, y_vloss, c=\"red\", label = \"test_loss\")\n",
    "plt.plot(x_len, y_loss, c=\"blue\", label = \"train_loss\")\n",
    "plt.xlabel(\"epoch\")\n",
    "plt.ylabel(\"loss\")\n",
    "plt.legend()\n",
    "plt.grid()\n",
    "plt.show()"
   ]
  },
  {
   "cell_type": "markdown",
   "metadata": {},
   "source": [
    "### <span style= \"color :red\"> imdb 영화 리뷰 분류하기 </span>\n"
   ]
  },
  {
   "cell_type": "code",
   "execution_count": 23,
   "metadata": {},
   "outputs": [
    {
     "name": "stdout",
     "output_type": "stream",
     "text": [
      "(25000,) (25000,)\n",
      "(25000, 500) (25000, 500)\n"
     ]
    }
   ],
   "source": [
    "from tensorflow import keras\n",
    "\n",
    "# 데이터 호출 \n",
    "(x_train, y_train), (x_test, y_test) = keras.datasets.imdb.load_data(num_words=5000)\n",
    "print(x_train.shape, x_test.shape)\n",
    "\n",
    "\n",
    "# 데이터 길이 설정 \n",
    "from tensorflow.keras.preprocessing import sequence\n",
    "x_train = sequence.pad_sequences(x_train, maxlen=500)\n",
    "x_test = sequence.pad_sequences(x_test, maxlen=500)\n",
    "print(x_train.shape, x_test.shape)"
   ]
  },
  {
   "cell_type": "markdown",
   "metadata": {},
   "source": [
    "- 모델 구조 설계"
   ]
  },
  {
   "cell_type": "code",
   "execution_count": 24,
   "metadata": {},
   "outputs": [
    {
     "name": "stdout",
     "output_type": "stream",
     "text": [
      "Model: \"sequential_2\"\n",
      "_________________________________________________________________\n",
      " Layer (type)                Output Shape              Param #   \n",
      "=================================================================\n",
      " embedding_2 (Embedding)     (None, None, 100)         500000    \n",
      "                                                                 \n",
      " dropout (Dropout)           (None, None, 100)         0         \n",
      "                                                                 \n",
      " conv1d (Conv1D)             (None, None, 64)          32064     \n",
      "                                                                 \n",
      " max_pooling1d (MaxPooling1D  (None, None, 64)         0         \n",
      " )                                                               \n",
      "                                                                 \n",
      " lstm_2 (LSTM)               (None, 55)                26400     \n",
      "                                                                 \n",
      " dense_2 (Dense)             (None, 1)                 56        \n",
      "                                                                 \n",
      "=================================================================\n",
      "Total params: 558,520\n",
      "Trainable params: 558,520\n",
      "Non-trainable params: 0\n",
      "_________________________________________________________________\n"
     ]
    }
   ],
   "source": [
    "from tensorflow import keras\n",
    "\n",
    "model = keras.Sequential()\n",
    "model.add(keras.layers.Embedding(5000,100))\n",
    "model.add(keras.layers.Dropout(0.5))\n",
    "model.add(keras.layers.Conv1D(64,5, padding=\"valid\", activation = \"relu\"))\n",
    "model.add(keras.layers.MaxPool1D(4))\n",
    "model.add(keras.layers.LSTM(55))\n",
    "model.add(keras.layers.Dense(1, activation =\"sigmoid\"))\n",
    "model.summary()"
   ]
  },
  {
   "cell_type": "code",
   "execution_count": 25,
   "metadata": {},
   "outputs": [
    {
     "name": "stdout",
     "output_type": "stream",
     "text": [
      "Epoch 1/100\n",
      "469/469 [==============================] - 27s 54ms/step - loss: 0.4176 - accuracy: 0.7902 - val_loss: 0.2903 - val_accuracy: 0.8800\n",
      "Epoch 2/100\n",
      "469/469 [==============================] - 26s 55ms/step - loss: 0.2400 - accuracy: 0.9051 - val_loss: 0.2568 - val_accuracy: 0.8938\n",
      "Epoch 3/100\n",
      "469/469 [==============================] - 25s 54ms/step - loss: 0.1842 - accuracy: 0.9301 - val_loss: 0.2691 - val_accuracy: 0.8878\n",
      "Epoch 4/100\n",
      "469/469 [==============================] - 25s 54ms/step - loss: 0.1444 - accuracy: 0.9479 - val_loss: 0.3583 - val_accuracy: 0.8779\n",
      "Epoch 5/100\n",
      "469/469 [==============================] - 26s 55ms/step - loss: 0.1147 - accuracy: 0.9593 - val_loss: 0.3653 - val_accuracy: 0.8800\n",
      "Epoch 6/100\n",
      "469/469 [==============================] - 25s 54ms/step - loss: 0.0913 - accuracy: 0.9695 - val_loss: 0.3715 - val_accuracy: 0.8803\n",
      "Epoch 7/100\n",
      "469/469 [==============================] - 26s 56ms/step - loss: 0.0669 - accuracy: 0.9775 - val_loss: 0.3735 - val_accuracy: 0.8835\n",
      "782/782 [==============================] - 8s 10ms/step - loss: 0.2721 - accuracy: 0.8873\n",
      "모델 정확도 :  0.8872799873352051\n"
     ]
    },
    {
     "data": {
      "image/png": "[encoded data removed]",
      "text/plain": [
       "<Figure size 432x288 with 1 Axes>"
      ]
     },
     "metadata": {
      "needs_background": "light"
     },
     "output_type": "display_data"
    }
   ],
   "source": [
    "model.compile(optimizer=\"adam\", loss = \"binary_crossentropy\", metrics=\"accuracy\")\n",
    "er_stop = keras.callbacks.EarlyStopping(patience=5, restore_best_weights=True)\n",
    "\n",
    "history = model.fit(x_train, y_train, epochs=100, batch_size=40, validation_split=.25, callbacks=er_stop)\n",
    "\n",
    "print(\"모델 정확도 : \",model.evaluate(x_test, y_test)[1])\n",
    "\n",
    "y_vloss = history.history['val_loss']\n",
    "y_loss = history.history['loss']\n",
    "\n",
    "import matplotlib.pyplot as plt\n",
    "x_len = np.arange(len(y_vloss))\n",
    "plt.plot(x_len, y_vloss, c=\"red\", label = \"test_loss\")\n",
    "plt.plot(x_len, y_loss, c=\"blue\", label = \"train_loss\")\n",
    "plt.xlabel(\"epoch\")\n",
    "plt.ylabel(\"loss\")\n",
    "plt.legend()\n",
    "plt.grid()\n",
    "plt.show()"
   ]
  },
  {
   "cell_type": "code",
   "execution_count": null,
   "metadata": {},
   "outputs": [],
   "source": []
  }
 ],
 "metadata": {
  "kernelspec": {
   "display_name": "Python 3.9.12 ('base')",
   "language": "python",
   "name": "python3"
  },
  "language_info": {
   "codemirror_mode": {
    "name": "ipython",
    "version": 3
   },
   "file_extension": ".py",
   "mimetype": "text/x-python",
   "name": "python",
   "nbconvert_exporter": "python",
   "pygments_lexer": "ipython3",
   "version": "3.9.12"
  },
  "orig_nbformat": 4,
  "vscode": {
   "interpreter": {
    "hash": "8df4e0e0c796e2e15924145e6441c62a115ba500877f31d29fc14fd3395fcd67"
   }
  }
 },
 "nbformat": 4,
 "nbformat_minor": 2
}

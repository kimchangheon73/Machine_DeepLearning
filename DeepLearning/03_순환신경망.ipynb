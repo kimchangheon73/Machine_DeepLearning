{
 "cells": [
  {
   "cell_type": "markdown",
   "metadata": {},
   "source": [
    "### <span style= \"color :red\"> 순환신경망 </span>\n",
    "- 순차데이터를 위해 사용하는 신경망의 한 종류 \n",
    "- 이전 데이터의 학습 결과를 다음 데이터의 학습에 일정량의 가중치를 곱하여 학습하는 신경망"
   ]
  },
  {
   "cell_type": "code",
   "execution_count": 3,
   "metadata": {},
   "outputs": [
    {
     "name": "stdout",
     "output_type": "stream",
     "text": [
      "(25000,) (25000,)\n",
      "(25000,) (25000,)\n"
     ]
    }
   ],
   "source": [
    "from tensorflow import keras \n",
    "(train_input, train_target), (test_input, test_target) = keras.datasets.imdb.load_data(num_words=500)\n",
    "print(train_input.shape, train_target.shape)\n",
    "print(test_input.shape, test_target.shape)"
   ]
  },
  {
   "cell_type": "code",
   "execution_count": 6,
   "metadata": {},
   "outputs": [
    {
     "name": "stdout",
     "output_type": "stream",
     "text": [
      "리뷰 데이터 :  [1, 14, 22, 16, 43, 2, 2, 2, 2, 65, 458, 2, 66, 2, 4, 173, 36, 256, 5, 25, 100, 43, 2, 112, 50, 2, 2, 9, 35, 480, 284, 5, 150, 4, 172, 112, 167, 2, 336, 385, 39, 4, 172, 2, 2, 17, 2, 38, 13, 447, 4, 192, 50, 16, 6, 147, 2, 19, 14, 22, 4, 2, 2, 469, 4, 22, 71, 87, 12, 16, 43, 2, 38, 76, 15, 13, 2, 4, 22, 17, 2, 17, 12, 16, 2, 18, 2, 5, 62, 386, 12, 8, 316, 8, 106, 5, 4, 2, 2, 16, 480, 66, 2, 33, 4, 130, 12, 16, 38, 2, 5, 25, 124, 51, 36, 135, 48, 25, 2, 33, 6, 22, 12, 215, 28, 77, 52, 5, 14, 407, 16, 82, 2, 8, 4, 107, 117, 2, 15, 256, 4, 2, 7, 2, 5, 2, 36, 71, 43, 2, 476, 26, 400, 317, 46, 7, 4, 2, 2, 13, 104, 88, 4, 381, 15, 297, 98, 32, 2, 56, 26, 141, 6, 194, 2, 18, 4, 226, 22, 21, 134, 476, 26, 480, 5, 144, 30, 2, 18, 51, 36, 28, 224, 92, 25, 104, 4, 226, 65, 16, 38, 2, 88, 12, 16, 283, 5, 16, 2, 113, 103, 32, 15, 16, 2, 19, 178, 32]\n",
      "리뷰 데이터 정답 :  [1 0 0 1 0 0 1 0 1 0]\n"
     ]
    }
   ],
   "source": [
    "print(\"리뷰 데이터 : \",train_input[0])                  # 단어사전에 없는 단어는 2로 표현 \n",
    "print(\"리뷰 데이터 정답 : \",train_target[:10])"
   ]
  },
  {
   "cell_type": "code",
   "execution_count": 7,
   "metadata": {},
   "outputs": [
    {
     "name": "stdout",
     "output_type": "stream",
     "text": [
      "(20000,) (20000,)\n",
      "(5000,) (5000,)\n"
     ]
    }
   ],
   "source": [
    "from sklearn.model_selection import train_test_split\n",
    "train_input, val_input, train_target, val_target = train_test_split(train_input, train_target, test_size=0.2, random_state=42)\n",
    "print(train_input.shape, train_target.shape)\n",
    "print(val_input.shape, val_target.shape)"
   ]
  },
  {
   "cell_type": "markdown",
   "metadata": {},
   "source": [
    "- 데이터의 길이 시각화 "
   ]
  },
  {
   "cell_type": "code",
   "execution_count": 8,
   "metadata": {},
   "outputs": [
    {
     "name": "stdout",
     "output_type": "stream",
     "text": [
      "평균 길이 : 239.00925\n",
      "표준편차 :  176.67367592382715\n"
     ]
    }
   ],
   "source": [
    "import numpy as np\n",
    "lengths = np.array([len(i) for i in train_input])\n",
    "\n",
    "print(\"평균 길이 :\",np.mean(lengths))\n",
    "print(\"표준편차 : \",np.std(lengths))"
   ]
  },
  {
   "cell_type": "code",
   "execution_count": 9,
   "metadata": {},
   "outputs": [
    {
     "data": {
      "image/png": "[encoded data removed]",
      "text/plain": [
       "<Figure size 432x288 with 1 Axes>"
      ]
     },
     "metadata": {
      "needs_background": "light"
     },
     "output_type": "display_data"
    }
   ],
   "source": [
    "import matplotlib.pyplot as plt\n",
    "plt.hist(lengths)\n",
    "plt.xlabel(\"lengths of text\")\n",
    "plt.ylabel(\"counts\")\n",
    "plt.show()"
   ]
  },
  {
   "cell_type": "markdown",
   "metadata": {},
   "source": [
    "- 리뷰 데이터의 길이를 맞추기"
   ]
  },
  {
   "cell_type": "code",
   "execution_count": 21,
   "metadata": {},
   "outputs": [
    {
     "name": "stdout",
     "output_type": "stream",
     "text": [
      "(20000, 100) (100,)\n",
      "(5000, 100) (100,)\n"
     ]
    }
   ],
   "source": [
    "from tensorflow.keras.preprocessing.sequence import pad_sequences\n",
    "train_seq = pad_sequences(train_input, maxlen=100)          # 리뷰의 최대 길이 지정 (100보다 짧으면 0으로 채우고 길면 앞부분을 짜른다)\n",
    "val_seq = pad_sequences(val_input, maxlen=100)\n",
    "print(train_seq.shape, train_seq[0].shape)\n",
    "print(val_seq.shape, val_seq[0].shape)"
   ]
  },
  {
   "cell_type": "markdown",
   "metadata": {},
   "source": [
    "- 원핫 인코딩 : 리뷰 데이터의 정수 인덱스의 크기속성을 제거 "
   ]
  },
  {
   "cell_type": "code",
   "execution_count": 14,
   "metadata": {},
   "outputs": [
    {
     "name": "stdout",
     "output_type": "stream",
     "text": [
      "(20000, 100, 500)\n",
      "(5000, 100, 500)\n"
     ]
    }
   ],
   "source": [
    "from tensorflow import keras\n",
    "\n",
    "train_oh = keras.utils.to_categorical(train_seq)\n",
    "val_oh = keras.utils.to_categorical(val_seq)\n",
    "\n",
    "print(train_oh.shape)\n",
    "print(val_oh.shape)"
   ]
  },
  {
   "cell_type": "markdown",
   "metadata": {},
   "source": [
    "- 순환신경망 생성"
   ]
  },
  {
   "cell_type": "code",
   "execution_count": 15,
   "metadata": {},
   "outputs": [
    {
     "name": "stdout",
     "output_type": "stream",
     "text": [
      "Model: \"sequential\"\n",
      "_________________________________________________________________\n",
      " Layer (type)                Output Shape              Param #   \n",
      "=================================================================\n",
      " simple_rnn (SimpleRNN)      (None, 8)                 4072      \n",
      "                                                                 \n",
      " dense (Dense)               (None, 1)                 9         \n",
      "                                                                 \n",
      "=================================================================\n",
      "Total params: 4,081\n",
      "Trainable params: 4,081\n",
      "Non-trainable params: 0\n",
      "_________________________________________________________________\n"
     ]
    }
   ],
   "source": [
    "from tensorflow import keras\n",
    "model = keras.Sequential()\n",
    "model.add(keras.layers.SimpleRNN(8, input_shape=(100,500)))         # 100 : 리뷰 길이, 500 : 단어사전 갯수 \n",
    "model.add(keras.layers.Dense(1, activation=\"sigmoid\"))\n",
    "\n",
    "rmsprop = keras.optimizers.RMSprop(learning_rate=1e-4)\n",
    "model.compile(optimizer = rmsprop, loss=\"binary_crossentropy\", metrics = \"accuracy\")\n",
    "\n",
    "model.summary()"
   ]
  },
  {
   "cell_type": "markdown",
   "metadata": {},
   "source": [
    "- 모델 훈련 및 시각화"
   ]
  },
  {
   "cell_type": "code",
   "execution_count": 16,
   "metadata": {},
   "outputs": [
    {
     "name": "stdout",
     "output_type": "stream",
     "text": [
      "Epoch 1/100\n",
      "313/313 [==============================] - 5s 14ms/step - loss: 0.6865 - accuracy: 0.5480 - val_loss: 0.6706 - val_accuracy: 0.5912\n",
      "Epoch 2/100\n",
      "313/313 [==============================] - 4s 13ms/step - loss: 0.6603 - accuracy: 0.6160 - val_loss: 0.6507 - val_accuracy: 0.6368\n",
      "Epoch 3/100\n",
      "313/313 [==============================] - 4s 13ms/step - loss: 0.6398 - accuracy: 0.6550 - val_loss: 0.6308 - val_accuracy: 0.6672\n",
      "Epoch 4/100\n",
      "313/313 [==============================] - 4s 13ms/step - loss: 0.6217 - accuracy: 0.6817 - val_loss: 0.6144 - val_accuracy: 0.6892\n",
      "Epoch 5/100\n",
      "313/313 [==============================] - 4s 13ms/step - loss: 0.6044 - accuracy: 0.7026 - val_loss: 0.5973 - val_accuracy: 0.7138\n",
      "Epoch 6/100\n",
      "313/313 [==============================] - 4s 13ms/step - loss: 0.5879 - accuracy: 0.7213 - val_loss: 0.5847 - val_accuracy: 0.7228\n",
      "Epoch 7/100\n",
      "313/313 [==============================] - 4s 13ms/step - loss: 0.5739 - accuracy: 0.7355 - val_loss: 0.5701 - val_accuracy: 0.7386\n",
      "Epoch 8/100\n",
      "313/313 [==============================] - 4s 13ms/step - loss: 0.5601 - accuracy: 0.7472 - val_loss: 0.5606 - val_accuracy: 0.7428\n",
      "Epoch 9/100\n",
      "313/313 [==============================] - 4s 13ms/step - loss: 0.5486 - accuracy: 0.7546 - val_loss: 0.5515 - val_accuracy: 0.7442\n",
      "Epoch 10/100\n",
      "313/313 [==============================] - 4s 13ms/step - loss: 0.5372 - accuracy: 0.7618 - val_loss: 0.5395 - val_accuracy: 0.7548\n",
      "Epoch 11/100\n",
      "313/313 [==============================] - 4s 13ms/step - loss: 0.5269 - accuracy: 0.7681 - val_loss: 0.5305 - val_accuracy: 0.7576\n",
      "Epoch 12/100\n",
      "313/313 [==============================] - 4s 13ms/step - loss: 0.5172 - accuracy: 0.7742 - val_loss: 0.5214 - val_accuracy: 0.7676\n",
      "Epoch 13/100\n",
      "313/313 [==============================] - 4s 13ms/step - loss: 0.5087 - accuracy: 0.7777 - val_loss: 0.5189 - val_accuracy: 0.7640\n",
      "Epoch 14/100\n",
      "313/313 [==============================] - 4s 13ms/step - loss: 0.5004 - accuracy: 0.7811 - val_loss: 0.5090 - val_accuracy: 0.7694\n",
      "Epoch 15/100\n",
      "313/313 [==============================] - 4s 13ms/step - loss: 0.4923 - accuracy: 0.7854 - val_loss: 0.5015 - val_accuracy: 0.7742\n",
      "Epoch 16/100\n",
      "313/313 [==============================] - 4s 13ms/step - loss: 0.4857 - accuracy: 0.7882 - val_loss: 0.4966 - val_accuracy: 0.7734\n",
      "Epoch 17/100\n",
      "313/313 [==============================] - 4s 13ms/step - loss: 0.4783 - accuracy: 0.7914 - val_loss: 0.4907 - val_accuracy: 0.7788\n",
      "Epoch 18/100\n",
      "313/313 [==============================] - 4s 13ms/step - loss: 0.4723 - accuracy: 0.7931 - val_loss: 0.4868 - val_accuracy: 0.7782\n",
      "Epoch 19/100\n",
      "313/313 [==============================] - 4s 13ms/step - loss: 0.4662 - accuracy: 0.7964 - val_loss: 0.4831 - val_accuracy: 0.7806\n",
      "Epoch 20/100\n",
      "313/313 [==============================] - 4s 13ms/step - loss: 0.4610 - accuracy: 0.7979 - val_loss: 0.4790 - val_accuracy: 0.7820\n",
      "Epoch 21/100\n",
      "313/313 [==============================] - 4s 12ms/step - loss: 0.4562 - accuracy: 0.7988 - val_loss: 0.4753 - val_accuracy: 0.7846\n",
      "Epoch 22/100\n",
      "313/313 [==============================] - 4s 13ms/step - loss: 0.4515 - accuracy: 0.8034 - val_loss: 0.4741 - val_accuracy: 0.7810\n",
      "Epoch 23/100\n",
      "313/313 [==============================] - 4s 13ms/step - loss: 0.4478 - accuracy: 0.8034 - val_loss: 0.4735 - val_accuracy: 0.7788\n",
      "Epoch 24/100\n",
      "313/313 [==============================] - 4s 13ms/step - loss: 0.4445 - accuracy: 0.8034 - val_loss: 0.4692 - val_accuracy: 0.7840\n",
      "Epoch 25/100\n",
      "313/313 [==============================] - 4s 13ms/step - loss: 0.4405 - accuracy: 0.8062 - val_loss: 0.4673 - val_accuracy: 0.7906\n",
      "Epoch 26/100\n",
      "313/313 [==============================] - 4s 13ms/step - loss: 0.4381 - accuracy: 0.8064 - val_loss: 0.4667 - val_accuracy: 0.7816\n",
      "Epoch 27/100\n",
      "313/313 [==============================] - 4s 13ms/step - loss: 0.4350 - accuracy: 0.8081 - val_loss: 0.4667 - val_accuracy: 0.7872\n",
      "Epoch 28/100\n",
      "313/313 [==============================] - 4s 14ms/step - loss: 0.4327 - accuracy: 0.8090 - val_loss: 0.4631 - val_accuracy: 0.7854\n",
      "Epoch 29/100\n",
      "313/313 [==============================] - 4s 13ms/step - loss: 0.4299 - accuracy: 0.8109 - val_loss: 0.4727 - val_accuracy: 0.7780\n",
      "Epoch 30/100\n",
      "313/313 [==============================] - 4s 13ms/step - loss: 0.4281 - accuracy: 0.8116 - val_loss: 0.4622 - val_accuracy: 0.7838\n",
      "Epoch 31/100\n",
      "313/313 [==============================] - 4s 13ms/step - loss: 0.4257 - accuracy: 0.8123 - val_loss: 0.4608 - val_accuracy: 0.7882\n",
      "Epoch 32/100\n",
      "313/313 [==============================] - 4s 13ms/step - loss: 0.4236 - accuracy: 0.8139 - val_loss: 0.4582 - val_accuracy: 0.7900\n",
      "Epoch 33/100\n",
      "313/313 [==============================] - 4s 14ms/step - loss: 0.4225 - accuracy: 0.8138 - val_loss: 0.4604 - val_accuracy: 0.7862\n",
      "Epoch 34/100\n",
      "313/313 [==============================] - 4s 13ms/step - loss: 0.4199 - accuracy: 0.8138 - val_loss: 0.4577 - val_accuracy: 0.7890\n",
      "Epoch 35/100\n",
      "313/313 [==============================] - 4s 13ms/step - loss: 0.4188 - accuracy: 0.8148 - val_loss: 0.4581 - val_accuracy: 0.7882\n",
      "Epoch 36/100\n",
      "313/313 [==============================] - 4s 13ms/step - loss: 0.4175 - accuracy: 0.8152 - val_loss: 0.4583 - val_accuracy: 0.7850\n",
      "Epoch 37/100\n",
      "313/313 [==============================] - 4s 12ms/step - loss: 0.4156 - accuracy: 0.8170 - val_loss: 0.4575 - val_accuracy: 0.7866\n",
      "Epoch 38/100\n",
      "313/313 [==============================] - 4s 12ms/step - loss: 0.4144 - accuracy: 0.8167 - val_loss: 0.4642 - val_accuracy: 0.7846\n",
      "Epoch 39/100\n",
      "313/313 [==============================] - 4s 13ms/step - loss: 0.4133 - accuracy: 0.8157 - val_loss: 0.4577 - val_accuracy: 0.7874\n",
      "Epoch 40/100\n",
      "313/313 [==============================] - 4s 12ms/step - loss: 0.4117 - accuracy: 0.8188 - val_loss: 0.4597 - val_accuracy: 0.7878\n"
     ]
    },
    {
     "data": {
      "image/png": "[encoded data removed]",
      "text/plain": [
       "<Figure size 432x288 with 1 Axes>"
      ]
     },
     "metadata": {
      "needs_background": "light"
     },
     "output_type": "display_data"
    }
   ],
   "source": [
    "check_cb = keras.callbacks.ModelCheckpoint(\"best-simpleRnn.h5\")\n",
    "er_stop = keras.callbacks.EarlyStopping(patience=3, restore_best_weights=True)\n",
    "\n",
    "history = model.fit(train_oh, train_target, \n",
    "                    epochs = 100,\n",
    "                    batch_size = 64,\n",
    "                    callbacks=[check_cb, er_stop], \n",
    "                    validation_data=[val_oh,val_target])\n",
    "\n",
    "\n",
    "\n",
    "import matplotlib.pyplot as plt\n",
    "plt.plot(history.history['loss'])\n",
    "plt.plot(history.history['val_loss'])\n",
    "plt.xlabel(\"epochs\")\n",
    "plt.ylabel(\"loss\")\n",
    "plt.legend([\"train\",\"val\"])\n",
    "plt.show()"
   ]
  },
  {
   "cell_type": "markdown",
   "metadata": {},
   "source": [
    "###  단어 임베딩 \n",
    "- 의미 : 각 단어를 고정된 크기의 실수 벡터로 바꿔주는 방법 \n",
    "- 정수로 변환된 토큰을 비교적 작은 크기의 실수 밀집 백터로 변환하는 작업\n",
    "- 각 단어간의 의미를 고려한 단어 정규화 방법"
   ]
  },
  {
   "cell_type": "code",
   "execution_count": 22,
   "metadata": {},
   "outputs": [
    {
     "name": "stdout",
     "output_type": "stream",
     "text": [
      "Epoch 1/100\n",
      "313/313 [==============================] - 3s 8ms/step - loss: 0.6957 - accuracy: 0.5065 - val_loss: 0.6932 - val_accuracy: 0.5182\n",
      "Epoch 2/100\n",
      "313/313 [==============================] - 2s 7ms/step - loss: 0.6907 - accuracy: 0.5300 - val_loss: 0.6910 - val_accuracy: 0.5256\n",
      "Epoch 3/100\n",
      "313/313 [==============================] - 2s 7ms/step - loss: 0.6870 - accuracy: 0.5484 - val_loss: 0.6894 - val_accuracy: 0.5322\n",
      "Epoch 4/100\n",
      "313/313 [==============================] - 2s 7ms/step - loss: 0.6834 - accuracy: 0.5666 - val_loss: 0.6879 - val_accuracy: 0.5380\n",
      "Epoch 5/100\n",
      "313/313 [==============================] - 2s 7ms/step - loss: 0.6796 - accuracy: 0.5800 - val_loss: 0.6864 - val_accuracy: 0.5462\n",
      "Epoch 6/100\n",
      "313/313 [==============================] - 2s 7ms/step - loss: 0.6756 - accuracy: 0.5928 - val_loss: 0.6851 - val_accuracy: 0.5542\n",
      "Epoch 7/100\n",
      "313/313 [==============================] - 2s 7ms/step - loss: 0.6714 - accuracy: 0.6005 - val_loss: 0.6841 - val_accuracy: 0.5562\n",
      "Epoch 8/100\n",
      "313/313 [==============================] - 2s 7ms/step - loss: 0.6671 - accuracy: 0.6090 - val_loss: 0.6828 - val_accuracy: 0.5578\n",
      "Epoch 9/100\n",
      "313/313 [==============================] - 2s 7ms/step - loss: 0.6625 - accuracy: 0.6166 - val_loss: 0.6816 - val_accuracy: 0.5570\n",
      "Epoch 10/100\n",
      "313/313 [==============================] - 2s 7ms/step - loss: 0.6581 - accuracy: 0.6241 - val_loss: 0.6805 - val_accuracy: 0.5592\n",
      "Epoch 11/100\n",
      "313/313 [==============================] - 2s 7ms/step - loss: 0.6534 - accuracy: 0.6305 - val_loss: 0.6793 - val_accuracy: 0.5588\n",
      "Epoch 12/100\n",
      "313/313 [==============================] - 2s 7ms/step - loss: 0.6488 - accuracy: 0.6395 - val_loss: 0.6784 - val_accuracy: 0.5594\n",
      "Epoch 13/100\n",
      "313/313 [==============================] - 2s 7ms/step - loss: 0.6442 - accuracy: 0.6452 - val_loss: 0.6777 - val_accuracy: 0.5630\n",
      "Epoch 14/100\n",
      "313/313 [==============================] - 2s 8ms/step - loss: 0.6396 - accuracy: 0.6507 - val_loss: 0.6765 - val_accuracy: 0.5666\n",
      "Epoch 15/100\n",
      "313/313 [==============================] - 3s 8ms/step - loss: 0.6351 - accuracy: 0.6557 - val_loss: 0.6757 - val_accuracy: 0.5676\n",
      "Epoch 16/100\n",
      "313/313 [==============================] - 2s 8ms/step - loss: 0.6307 - accuracy: 0.6607 - val_loss: 0.6763 - val_accuracy: 0.5676\n",
      "Epoch 17/100\n",
      "313/313 [==============================] - 2s 7ms/step - loss: 0.6264 - accuracy: 0.6638 - val_loss: 0.6760 - val_accuracy: 0.5708\n",
      "Epoch 18/100\n",
      "313/313 [==============================] - 2s 7ms/step - loss: 0.6223 - accuracy: 0.6679 - val_loss: 0.6758 - val_accuracy: 0.5722\n"
     ]
    },
    {
     "data": {
      "text/plain": [
       "<keras.callbacks.History at 0x2a9b790a820>"
      ]
     },
     "execution_count": 22,
     "metadata": {},
     "output_type": "execute_result"
    }
   ],
   "source": [
    "model = keras.Sequential()\n",
    "model.add(keras.layers.Embedding(500, 16, input_length = 100))     # 500 : 어휘사전크기, 16 : 임베딩 백터 크기 , 100 : 입력시퀀스의 길이\n",
    "model.add(keras.layers.SimpleRNN(8))\n",
    "model.add(keras.layers.Dense(1, activation=\"sigmoid\"))\n",
    "\n",
    "model.compile(optimizer=rmsprop, loss=\"binary_crossentropy\", metrics=\"accuracy\")\n",
    "\n",
    "check_cb = keras.callbacks.ModelCheckpoint(\"best-embedding.h5\")\n",
    "er_stop = keras.callbacks.EarlyStopping(patience=3, restore_best_weights=True)\n",
    "\n",
    "model.fit(train_seq, train_target, \n",
    "          epochs=100, batch_size=64, \n",
    "          validation_data=(val_seq, val_target), \n",
    "          callbacks=[check_cb, er_stop])"
   ]
  },
  {
   "cell_type": "code",
   "execution_count": 23,
   "metadata": {},
   "outputs": [
    {
     "data": {
      "image/png": "[encoded data removed]",
      "text/plain": [
       "<Figure size 432x288 with 1 Axes>"
      ]
     },
     "metadata": {
      "needs_background": "light"
     },
     "output_type": "display_data"
    }
   ],
   "source": [
    "import matplotlib.pyplot as plt\n",
    "plt.plot(history.history['loss'])\n",
    "plt.plot(history.history['val_loss'])\n",
    "plt.xlabel(\"epochs\")\n",
    "plt.ylabel(\"loss\")\n",
    "plt.legend([\"train\",\"val\"])\n",
    "plt.show()"
   ]
  },
  {
   "cell_type": "code",
   "execution_count": null,
   "metadata": {},
   "outputs": [],
   "source": []
  }
 ],
 "metadata": {
  "kernelspec": {
   "display_name": "Python 3.9.12 ('base')",
   "language": "python",
   "name": "python3"
  },
  "language_info": {
   "codemirror_mode": {
    "name": "ipython",
    "version": 3
   },
   "file_extension": ".py",
   "mimetype": "text/x-python",
   "name": "python",
   "nbconvert_exporter": "python",
   "pygments_lexer": "ipython3",
   "version": "3.9.12"
  },
  "orig_nbformat": 4,
  "vscode": {
   "interpreter": {
    "hash": "8df4e0e0c796e2e15924145e6441c62a115ba500877f31d29fc14fd3395fcd67"
   }
  }
 },
 "nbformat": 4,
 "nbformat_minor": 2
}

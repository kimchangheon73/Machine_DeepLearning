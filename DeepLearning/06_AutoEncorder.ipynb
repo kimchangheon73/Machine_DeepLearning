{
 "cells": [
  {
   "cell_type": "markdown",
   "metadata": {},
   "source": [
    "# <span style= \"color :red\"> 오토인코더 </span>\n",
    "- 정의 : 입력 데이터의 특징을 효울적으로 담아낸 이미지를 만들어 내는 알고리즘<br><br>\n"
   ]
  },
  {
   "cell_type": "markdown",
   "metadata": {},
   "source": [
    "### <span style= \"color :blue\"> - 오토인코더 모델 생성  </span>\n"
   ]
  },
  {
   "cell_type": "code",
   "execution_count": 6,
   "metadata": {},
   "outputs": [
    {
     "name": "stdout",
     "output_type": "stream",
     "text": [
      "Model: \"sequential_1\"\n",
      "_________________________________________________________________\n",
      " Layer (type)                Output Shape              Param #   \n",
      "=================================================================\n",
      " conv2d_12 (Conv2D)          (None, 28, 28, 16)        160       \n",
      "                                                                 \n",
      " max_pooling2d_4 (MaxPooling  (None, 14, 14, 16)       0         \n",
      " 2D)                                                             \n",
      "                                                                 \n",
      " conv2d_13 (Conv2D)          (None, 14, 14, 8)         1160      \n",
      "                                                                 \n",
      " max_pooling2d_5 (MaxPooling  (None, 7, 7, 8)          0         \n",
      " 2D)                                                             \n",
      "                                                                 \n",
      " conv2d_14 (Conv2D)          (None, 4, 4, 8)           584       \n",
      "                                                                 \n",
      " conv2d_15 (Conv2D)          (None, 4, 4, 8)           584       \n",
      "                                                                 \n",
      " up_sampling2d_4 (UpSampling  (None, 8, 8, 8)          0         \n",
      " 2D)                                                             \n",
      "                                                                 \n",
      " conv2d_16 (Conv2D)          (None, 8, 8, 8)           584       \n",
      "                                                                 \n",
      " up_sampling2d_5 (UpSampling  (None, 16, 16, 8)        0         \n",
      " 2D)                                                             \n",
      "                                                                 \n",
      " conv2d_17 (Conv2D)          (None, 14, 14, 16)        1168      \n",
      "                                                                 \n",
      " up_sampling2d_6 (UpSampling  (None, 28, 28, 16)       0         \n",
      " 2D)                                                             \n",
      "                                                                 \n",
      " conv2d_18 (Conv2D)          (None, 28, 28, 1)         145       \n",
      "                                                                 \n",
      "=================================================================\n",
      "Total params: 4,385\n",
      "Trainable params: 4,385\n",
      "Non-trainable params: 0\n",
      "_________________________________________________________________\n"
     ]
    }
   ],
   "source": [
    "from enum import auto\n",
    "from tensorflow import keras \n",
    "autoencoder = keras.Sequential()\n",
    "\n",
    "# 인코딩 부분 ---> 차원을 축소시키는 부분\n",
    "autoencoder.add(keras.layers.Conv2D(16, kernel_size=3, padding=\"same\", input_shape=(28,28,1), activation=\"relu\"))\n",
    "autoencoder.add(keras.layers.MaxPool2D(2, padding=\"same\"))\n",
    "\n",
    "autoencoder.add(keras.layers.Conv2D(8, kernel_size=3, padding=\"same\", activation=\"relu\"))\n",
    "autoencoder.add(keras.layers.MaxPool2D(2, padding=\"same\"))\n",
    "\n",
    "autoencoder.add(keras.layers.Conv2D(8, kernel_size=3, strides =2 ,padding=\"same\", activation=\"relu\"))\n",
    "\n",
    "\n",
    "# 디코딩 부분 ---> 차원을 점차 늘려 입력값과 똑같은 크기의 출력을 내보내는 부분\n",
    "autoencoder.add(keras.layers.Conv2D(8, kernel_size=3, padding=\"same\", activation=\"relu\"))\n",
    "autoencoder.add(keras.layers.UpSampling2D())\n",
    "\n",
    "autoencoder.add(keras.layers.Conv2D(8, kernel_size=3, padding=\"same\", activation=\"relu\"))\n",
    "autoencoder.add(keras.layers.UpSampling2D())\n",
    "\n",
    "autoencoder.add(keras.layers.Conv2D(16, kernel_size=3, activation=\"relu\"))\n",
    "autoencoder.add(keras.layers.UpSampling2D())\n",
    "\n",
    "autoencoder.add(keras.layers.Conv2D(1, kernel_size=3, padding=\"same\", activation=\"sigmoid\"))\n",
    "\n",
    "# 전체 구조 확인 \n",
    "autoencoder.summary()"
   ]
  },
  {
   "cell_type": "markdown",
   "metadata": {},
   "source": [
    "### <span style= \"color :blue\"> - 오토인코더 모델 실행  </span>\n"
   ]
  },
  {
   "cell_type": "code",
   "execution_count": 10,
   "metadata": {},
   "outputs": [
    {
     "name": "stdout",
     "output_type": "stream",
     "text": [
      "Epoch 1/50\n",
      "469/469 [==============================] - 21s 43ms/step - loss: 0.2061 - val_loss: 0.1375\n",
      "Epoch 2/50\n",
      "469/469 [==============================] - 20s 42ms/step - loss: 0.1273 - val_loss: 0.1181\n",
      "Epoch 3/50\n",
      "469/469 [==============================] - 20s 42ms/step - loss: 0.1152 - val_loss: 0.1108\n",
      "Epoch 4/50\n",
      "469/469 [==============================] - 20s 42ms/step - loss: 0.1096 - val_loss: 0.1066\n",
      "Epoch 5/50\n",
      "469/469 [==============================] - 20s 42ms/step - loss: 0.1060 - val_loss: 0.1033\n",
      "Epoch 6/50\n",
      "469/469 [==============================] - 20s 42ms/step - loss: 0.1031 - val_loss: 0.1007\n",
      "Epoch 7/50\n",
      "469/469 [==============================] - 20s 42ms/step - loss: 0.1005 - val_loss: 0.0980\n",
      "Epoch 8/50\n",
      "469/469 [==============================] - 20s 42ms/step - loss: 0.0982 - val_loss: 0.0960\n",
      "Epoch 9/50\n",
      "469/469 [==============================] - 20s 42ms/step - loss: 0.0964 - val_loss: 0.0946\n",
      "Epoch 10/50\n",
      "469/469 [==============================] - 20s 42ms/step - loss: 0.0948 - val_loss: 0.0931\n",
      "Epoch 11/50\n",
      "469/469 [==============================] - 20s 42ms/step - loss: 0.0935 - val_loss: 0.0918\n",
      "Epoch 12/50\n",
      "469/469 [==============================] - 20s 42ms/step - loss: 0.0924 - val_loss: 0.0909\n",
      "Epoch 13/50\n",
      "469/469 [==============================] - 20s 43ms/step - loss: 0.0915 - val_loss: 0.0899\n",
      "Epoch 14/50\n",
      "469/469 [==============================] - 20s 42ms/step - loss: 0.0907 - val_loss: 0.0893\n",
      "Epoch 15/50\n",
      "469/469 [==============================] - 20s 42ms/step - loss: 0.0900 - val_loss: 0.0885\n",
      "Epoch 16/50\n",
      "469/469 [==============================] - 20s 42ms/step - loss: 0.0893 - val_loss: 0.0882\n",
      "Epoch 17/50\n",
      "469/469 [==============================] - 20s 43ms/step - loss: 0.0887 - val_loss: 0.0875\n",
      "Epoch 18/50\n",
      "469/469 [==============================] - 20s 42ms/step - loss: 0.0882 - val_loss: 0.0869\n",
      "Epoch 19/50\n",
      "469/469 [==============================] - 20s 42ms/step - loss: 0.0876 - val_loss: 0.0864\n",
      "Epoch 20/50\n",
      "469/469 [==============================] - 20s 42ms/step - loss: 0.0872 - val_loss: 0.0858\n",
      "Epoch 21/50\n",
      "469/469 [==============================] - 20s 42ms/step - loss: 0.0867 - val_loss: 0.0854\n",
      "Epoch 22/50\n",
      "469/469 [==============================] - 20s 42ms/step - loss: 0.0863 - val_loss: 0.0849\n",
      "Epoch 23/50\n",
      "469/469 [==============================] - 20s 42ms/step - loss: 0.0859 - val_loss: 0.0847\n",
      "Epoch 24/50\n",
      "469/469 [==============================] - 20s 42ms/step - loss: 0.0855 - val_loss: 0.0847\n",
      "Epoch 25/50\n",
      "469/469 [==============================] - 20s 42ms/step - loss: 0.0852 - val_loss: 0.0841\n",
      "Epoch 26/50\n",
      "469/469 [==============================] - 20s 42ms/step - loss: 0.0849 - val_loss: 0.0838\n",
      "Epoch 27/50\n",
      "469/469 [==============================] - 20s 42ms/step - loss: 0.0847 - val_loss: 0.0837\n",
      "Epoch 28/50\n",
      "469/469 [==============================] - 20s 42ms/step - loss: 0.0844 - val_loss: 0.0832\n",
      "Epoch 29/50\n",
      "469/469 [==============================] - 20s 42ms/step - loss: 0.0841 - val_loss: 0.0830\n",
      "Epoch 30/50\n",
      "469/469 [==============================] - 20s 42ms/step - loss: 0.0839 - val_loss: 0.0830\n",
      "Epoch 31/50\n",
      "469/469 [==============================] - 20s 42ms/step - loss: 0.0838 - val_loss: 0.0827\n",
      "Epoch 32/50\n",
      "469/469 [==============================] - 20s 42ms/step - loss: 0.0836 - val_loss: 0.0823\n",
      "Epoch 33/50\n",
      "469/469 [==============================] - 20s 42ms/step - loss: 0.0834 - val_loss: 0.0825\n",
      "Epoch 34/50\n",
      "469/469 [==============================] - 20s 42ms/step - loss: 0.0832 - val_loss: 0.0822\n",
      "Epoch 35/50\n",
      "469/469 [==============================] - 20s 42ms/step - loss: 0.0831 - val_loss: 0.0819\n",
      "Epoch 36/50\n",
      "469/469 [==============================] - 20s 42ms/step - loss: 0.0829 - val_loss: 0.0833\n",
      "Epoch 37/50\n",
      "469/469 [==============================] - 20s 42ms/step - loss: 0.0827 - val_loss: 0.0816\n",
      "Epoch 38/50\n",
      "469/469 [==============================] - 20s 42ms/step - loss: 0.0826 - val_loss: 0.0816\n",
      "Epoch 39/50\n",
      "469/469 [==============================] - 20s 42ms/step - loss: 0.0825 - val_loss: 0.0813\n",
      "Epoch 40/50\n",
      "469/469 [==============================] - 20s 42ms/step - loss: 0.0823 - val_loss: 0.0813\n",
      "Epoch 41/50\n",
      "469/469 [==============================] - 20s 42ms/step - loss: 0.0822 - val_loss: 0.0810\n",
      "Epoch 42/50\n",
      "469/469 [==============================] - 20s 42ms/step - loss: 0.0821 - val_loss: 0.0809\n",
      "Epoch 43/50\n",
      "469/469 [==============================] - 20s 42ms/step - loss: 0.0819 - val_loss: 0.0808\n",
      "Epoch 44/50\n",
      "469/469 [==============================] - 20s 42ms/step - loss: 0.0818 - val_loss: 0.0807\n",
      "Epoch 45/50\n",
      "469/469 [==============================] - 20s 43ms/step - loss: 0.0817 - val_loss: 0.0807\n",
      "Epoch 46/50\n",
      "469/469 [==============================] - 20s 43ms/step - loss: 0.0816 - val_loss: 0.0810\n",
      "Epoch 47/50\n",
      "469/469 [==============================] - 20s 43ms/step - loss: 0.0815 - val_loss: 0.0805\n",
      "Epoch 48/50\n",
      "469/469 [==============================] - 20s 43ms/step - loss: 0.0813 - val_loss: 0.0802\n",
      "Epoch 49/50\n",
      "469/469 [==============================] - 20s 42ms/step - loss: 0.0812 - val_loss: 0.0801\n",
      "Epoch 50/50\n",
      "469/469 [==============================] - 20s 42ms/step - loss: 0.0811 - val_loss: 0.0802\n",
      "313/313 [==============================] - 1s 3ms/step\n"
     ]
    },
    {
     "data": {
      "image/png": "[encoded data removed]",
      "text/plain": [
       "<Figure size 504x144 with 10 Axes>"
      ]
     },
     "metadata": {
      "needs_background": "light"
     },
     "output_type": "display_data"
    }
   ],
   "source": [
    "from tensorflow import keras \n",
    "import numpy as np\n",
    "import matplotlib.pyplot as plt\n",
    "\n",
    "(x_train,_), (x_test, _) = keras.datasets.mnist.load_data()\n",
    "x_train = x_train.reshape(x_train.shape[0], 28, 28, 1).astype(\"float32\") / 255\n",
    "x_test = x_test.reshape(x_test.shape[0], 28, 28, 1).astype(\"float32\") / 255\n",
    "\n",
    "autoencoder = keras.Sequential()\n",
    "\n",
    "# 인코딩 부분 ---> 차원을 축소시키는 부분\n",
    "autoencoder.add(keras.layers.Conv2D(16, kernel_size=3, padding=\"same\", input_shape=(28,28,1), activation=\"relu\"))\n",
    "autoencoder.add(keras.layers.MaxPool2D(2, padding=\"same\"))\n",
    "\n",
    "autoencoder.add(keras.layers.Conv2D(8, kernel_size=3, padding=\"same\", activation=\"relu\"))\n",
    "autoencoder.add(keras.layers.MaxPool2D(2, padding=\"same\"))\n",
    "\n",
    "autoencoder.add(keras.layers.Conv2D(8, kernel_size=3, strides =2 ,padding=\"same\", activation=\"relu\"))\n",
    "\n",
    "\n",
    "# 디코딩 부분 ---> 차원을 점차 늘려 입력값과 똑같은 크기의 출력을 내보내는 부분\n",
    "autoencoder.add(keras.layers.Conv2D(8, kernel_size=3, padding=\"same\", activation=\"relu\"))\n",
    "autoencoder.add(keras.layers.UpSampling2D())\n",
    "\n",
    "autoencoder.add(keras.layers.Conv2D(8, kernel_size=3, padding=\"same\", activation=\"relu\"))\n",
    "autoencoder.add(keras.layers.UpSampling2D())\n",
    "\n",
    "autoencoder.add(keras.layers.Conv2D(16, kernel_size=3, activation=\"relu\"))\n",
    "autoencoder.add(keras.layers.UpSampling2D())\n",
    "\n",
    "autoencoder.add(keras.layers.Conv2D(1, kernel_size=3, padding=\"same\", activation=\"sigmoid\"))\n",
    "\n",
    "\n",
    "# 컴파일 및 모델을 학습하는 부분 \n",
    "autoencoder.compile(optimizer=\"adam\", loss=\"binary_crossentropy\")\n",
    "autoencoder.fit(x_train, x_train, epochs=50, batch_size = 128, validation_data=(x_test, x_test))\n",
    "\n",
    "# 학습된 결과를 출력하는 부분\n",
    "random_test = np.random.randint(x_test.shape[0], size=5)       # 앞서 만든 오토인코더 모델에 넣음\n",
    "\n",
    "# 테스트할 이미지를 랜덤으로 호출\n",
    "ae_imgs = autoencoder.predict(x_test)   # 앞서 만든 오토인코더 모델에 넣음\n",
    "\n",
    "plt.figure(figsize=(7,2))\n",
    "\n",
    "for i, img_idx in enumerate(random_test):\n",
    "    # 랜덤으로 뽑은 이미지를 차례로 나열\n",
    "    ax = plt.subplot(2,7,i+1)\n",
    "    # 테스트할 이미지를 그래도 보여줌\n",
    "    plt.imshow(x_test[img_idx].reshape(28,28))\n",
    "    ax.axis(\"off\")\n",
    "    ax = plt.subplot(2,7,7+i+1)\n",
    "    # 오토인코더이 결과를 다음 열에 입력\n",
    "    plt.imshow(ae_imgs[img_idx].reshape(28,28))\n",
    "    ax.axis(\"off\")\n",
    "plt.show()"
   ]
  },
  {
   "cell_type": "code",
   "execution_count": 13,
   "metadata": {},
   "outputs": [
    {
     "name": "stdout",
     "output_type": "stream",
     "text": [
      "313/313 [==============================] - 1s 4ms/step\n"
     ]
    },
    {
     "data": {
      "image/png": "[encoded data removed]",
      "text/plain": [
       "<Figure size 504x144 with 10 Axes>"
      ]
     },
     "metadata": {
      "needs_background": "light"
     },
     "output_type": "display_data"
    }
   ],
   "source": [
    "# 학습된 결과를 출력하는 부분\n",
    "random_test = np.random.randint(x_test.shape[0], size=5)       # 앞서 만든 오토인코더 모델에 넣음\n",
    "\n",
    "# 테스트할 이미지를 랜덤으로 호출\n",
    "ae_imgs = autoencoder.predict(x_test)   # 앞서 만든 오토인코더 모델에 넣음\n",
    "\n",
    "plt.figure(figsize=(7,2))\n",
    "\n",
    "for i, img_idx in enumerate(random_test):\n",
    "    # 랜덤으로 뽑은 이미지를 차례로 나열\n",
    "    ax = plt.subplot(2,7,i+1)\n",
    "    # 테스트할 이미지를 그래도 보여줌\n",
    "    plt.imshow(x_test[img_idx].reshape(28,28))\n",
    "    ax.axis(\"off\")\n",
    "    ax = plt.subplot(2,7,7+i+1)\n",
    "    # 오토인코더이 결과를 다음 열에 입력\n",
    "    plt.imshow(ae_imgs[img_idx].reshape(28,28))\n",
    "    ax.axis(\"off\")\n",
    "plt.show()"
   ]
  },
  {
   "cell_type": "code",
   "execution_count": null,
   "metadata": {},
   "outputs": [],
   "source": []
  }
 ],
 "metadata": {
  "kernelspec": {
   "display_name": "Python 3.9.12 ('base')",
   "language": "python",
   "name": "python3"
  },
  "language_info": {
   "codemirror_mode": {
    "name": "ipython",
    "version": 3
   },
   "file_extension": ".py",
   "mimetype": "text/x-python",
   "name": "python",
   "nbconvert_exporter": "python",
   "pygments_lexer": "ipython3",
   "version": "3.9.12"
  },
  "orig_nbformat": 4,
  "vscode": {
   "interpreter": {
    "hash": "8df4e0e0c796e2e15924145e6441c62a115ba500877f31d29fc14fd3395fcd67"
   }
  }
 },
 "nbformat": 4,
 "nbformat_minor": 2
}

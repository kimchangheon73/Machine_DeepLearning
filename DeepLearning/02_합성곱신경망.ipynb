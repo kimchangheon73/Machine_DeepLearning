{
 "cells": [
  {
   "cell_type": "markdown",
   "metadata": {},
   "source": [
    "### <span style= \"color :red\"> 합성곱신경망 </span>\n",
    "- 무작위 가중치를 가지는 커널을 이용해 해당 데이터에서 중요한 특성만을 추출하여 특성 맵을 만드는 신경망 알고리즘<br><br>\n",
    "- 패딩 : 입력 배열의 주위를 가상의 원소로 채우는 것 \n",
    "    - same : 입력과 특성 맵의 크기를 동일하게 만들기 위해 입력 주위에 0으로 패딩하는 것\n",
    "    - valid : 순수한 입력 배열에서만 합성곱을 하여 특성 맵을 만드는 경우<br><br>\n",
    "- 스트라이드 : 커널이 이동하는 크기 (default = 1)"
   ]
  },
  {
   "cell_type": "code",
   "execution_count": 5,
   "metadata": {},
   "outputs": [],
   "source": [
    "from tensorflow import keras \n",
    "Conv = keras.layers.Conv2D(10,                      # 필터의 갯수 \n",
    "                           kernel_size =(3,3),      # 커널의 크기 \n",
    "                           activation=\"relu\",       # 활성함수\n",
    "                           padding = \"same\",        # 패딩 \n",
    "                           stride = 1               # 스트라이드 \n",
    "                           )       "
   ]
  },
  {
   "cell_type": "markdown",
   "metadata": {},
   "source": [
    "### <span style= \"color :red\"> 풀링 </span>\n",
    "- 특성 맵의 갯수는 유지한체 가로세로 크기를 줄이는 역할 \n",
    "- 가로세로가 같으면 정수하나로, 다른 경우엔 정수의 튜플형태로 매개변수를 지정\n",
    "- 풀링에는 가중치가 존재하지 않음\n",
    "- 커널의 영역에서 가장 큰 값을 고르거나 평균값을 계산하는 것 \n",
    "- 풀링에서는 겹치지 않고 이동한다"
   ]
  },
  {
   "cell_type": "code",
   "execution_count": 6,
   "metadata": {},
   "outputs": [],
   "source": [
    "pool = keras.layers.MaxPool2D(2)                # 가로세로 크기를 절반으로 줄임 "
   ]
  },
  {
   "cell_type": "markdown",
   "metadata": {},
   "source": [
    "### <span style= \"color :red\"> 컬러 이미지를 사용한 합성곱 </span>\n",
    "- 흑백이미지는 2차원 배열 \n",
    "    - 커널의 크기 ex = (2, 2)<br><br>\n",
    "- 컬러이미지는 RGB채널로 구성된 3차원 배열\n",
    "    - 커널의 크기에 가로,세로,깊이가 필요함 (3,3,3)\n",
    "    - <span style= \"color :blue\">중요 : 입력이나 필터의 차원이 몇 개인지 상관없이 항상 출력은 하나의 값이다</span>\n",
    "    - <span style= \"color :blue\">(4,4,3) 크기의 입력에 (3,3,3) 크기의 커널을 이용하면 출력된 특성 맵은 (2,2)이다</span><br><br>\n",
    "\n",
    "- 케라스의 합성곱 층은 항상 3차원 입력을 기대한다 "
   ]
  },
  {
   "cell_type": "code",
   "execution_count": 7,
   "metadata": {},
   "outputs": [
    {
     "name": "stdout",
     "output_type": "stream",
     "text": [
      "(60000, 28, 28) (60000,)\n"
     ]
    }
   ],
   "source": [
    "from tensorflow import keras\n",
    "from sklearn.model_selection import train_test_split\n",
    "\n",
    "(train_input, train_target), (test_input, test_target) = keras.datasets.fashion_mnist.load_data()\n",
    "print(train_input.shape, train_target.shape)\n"
   ]
  },
  {
   "cell_type": "markdown",
   "metadata": {},
   "source": [
    "- 깊이가 있는 이미지 데이터는 위해 데이터 전처리"
   ]
  },
  {
   "cell_type": "code",
   "execution_count": 8,
   "metadata": {},
   "outputs": [
    {
     "name": "stdout",
     "output_type": "stream",
     "text": [
      "(48000, 28, 28, 1) (48000,)\n"
     ]
    }
   ],
   "source": [
    "train_scaled = train_input.reshape(-1, 28, 28, 1) / 255.0\n",
    "\n",
    "train_scaled, val_scaled, train_target, val_target = train_test_split(train_scaled, train_target, test_size=0.2, random_state=42)\n",
    "\n",
    "print(train_scaled.shape, train_target.shape)"
   ]
  },
  {
   "cell_type": "markdown",
   "metadata": {},
   "source": [
    "- 합성곱 신경망 만들기"
   ]
  },
  {
   "cell_type": "code",
   "execution_count": 21,
   "metadata": {},
   "outputs": [
    {
     "name": "stdout",
     "output_type": "stream",
     "text": [
      "Model: \"sequential_4\"\n",
      "_________________________________________________________________\n",
      " Layer (type)                Output Shape              Param #   \n",
      "=================================================================\n",
      " conv2d_8 (Conv2D)           (None, 28, 28, 32)        320       \n",
      "                                                                 \n",
      " max_pooling2d_5 (MaxPooling  (None, 14, 14, 32)       0         \n",
      " 2D)                                                             \n",
      "                                                                 \n",
      " conv2d_9 (Conv2D)           (None, 14, 14, 64)        18496     \n",
      "                                                                 \n",
      " max_pooling2d_6 (MaxPooling  (None, 7, 7, 64)         0         \n",
      " 2D)                                                             \n",
      "                                                                 \n",
      " flatten_2 (Flatten)         (None, 3136)              0         \n",
      "                                                                 \n",
      " dense_4 (Dense)             (None, 100)               313700    \n",
      "                                                                 \n",
      " dropout_2 (Dropout)         (None, 100)               0         \n",
      "                                                                 \n",
      " dense_5 (Dense)             (None, 10)                1010      \n",
      "                                                                 \n",
      "=================================================================\n",
      "Total params: 333,526\n",
      "Trainable params: 333,526\n",
      "Non-trainable params: 0\n",
      "_________________________________________________________________\n"
     ]
    }
   ],
   "source": [
    "from tensorflow import keras\n",
    "model = keras.Sequential()\n",
    "model.add(keras.layers.Conv2D(32,\n",
    "                              kernel_size=(3,3),\n",
    "                              activation=\"relu\",\n",
    "                              padding=\"same\",\n",
    "                              input_shape= (28,28,1)))\n",
    "model.add(keras.layers.MaxPool2D(2))                        # (14,14,32)의 특성맵 출력\n",
    "model.add(keras.layers.Conv2D(64,\n",
    "                              kernel_size=(3,3),\n",
    "                              activation=\"relu\",\n",
    "                              padding=\"same\"))\n",
    "model.add(keras.layers.MaxPool2D(2))                        # (7,7,64)의 특성맵 출력\n",
    "\n",
    "model.add(keras.layers.Flatten())                           # (7*7*64)크기의 1차원 배열로 만듬\n",
    "model.add(keras.layers.Dense(100, activation=\"relu\"))\n",
    "model.add(keras.layers.Dropout(0.5))\n",
    "model.add(keras.layers.Dense(10, activation=\"softmax\"))     # 다중분류를 위한 softmax함수 지정\n",
    "\n",
    "model.summary()"
   ]
  },
  {
   "cell_type": "code",
   "execution_count": 22,
   "metadata": {},
   "outputs": [
    {
     "name": "stdout",
     "output_type": "stream",
     "text": [
      "Epoch 1/20\n",
      "1500/1500 [==============================] - 15s 10ms/step - loss: 0.5768 - accuracy: 0.7963 - val_loss: 0.3381 - val_accuracy: 0.8742\n",
      "Epoch 2/20\n",
      "1500/1500 [==============================] - 15s 10ms/step - loss: 0.3848 - accuracy: 0.8620 - val_loss: 0.2849 - val_accuracy: 0.8933\n",
      "Epoch 3/20\n",
      "1500/1500 [==============================] - 14s 9ms/step - loss: 0.3308 - accuracy: 0.8802 - val_loss: 0.2715 - val_accuracy: 0.8991\n",
      "Epoch 4/20\n",
      "1500/1500 [==============================] - 14s 10ms/step - loss: 0.2986 - accuracy: 0.8920 - val_loss: 0.2625 - val_accuracy: 0.9013\n",
      "Epoch 5/20\n",
      "1500/1500 [==============================] - 14s 9ms/step - loss: 0.2744 - accuracy: 0.9004 - val_loss: 0.2441 - val_accuracy: 0.9107\n",
      "Epoch 6/20\n",
      "1500/1500 [==============================] - 14s 9ms/step - loss: 0.2518 - accuracy: 0.9084 - val_loss: 0.2635 - val_accuracy: 0.9059\n",
      "Epoch 7/20\n",
      "1500/1500 [==============================] - 14s 9ms/step - loss: 0.2357 - accuracy: 0.9135 - val_loss: 0.2410 - val_accuracy: 0.9131\n",
      "Epoch 8/20\n",
      "1500/1500 [==============================] - 14s 10ms/step - loss: 0.2227 - accuracy: 0.9199 - val_loss: 0.2258 - val_accuracy: 0.9193\n",
      "Epoch 9/20\n",
      "1500/1500 [==============================] - 14s 10ms/step - loss: 0.2093 - accuracy: 0.9232 - val_loss: 0.2257 - val_accuracy: 0.9190\n",
      "Epoch 10/20\n",
      "1500/1500 [==============================] - 15s 10ms/step - loss: 0.1981 - accuracy: 0.9267 - val_loss: 0.2209 - val_accuracy: 0.9208\n",
      "Epoch 11/20\n",
      "1500/1500 [==============================] - 15s 10ms/step - loss: 0.1885 - accuracy: 0.9299 - val_loss: 0.2249 - val_accuracy: 0.9212\n",
      "Epoch 12/20\n",
      "1500/1500 [==============================] - 15s 10ms/step - loss: 0.1790 - accuracy: 0.9334 - val_loss: 0.2278 - val_accuracy: 0.9228\n",
      "Epoch 13/20\n",
      "1500/1500 [==============================] - 15s 10ms/step - loss: 0.1686 - accuracy: 0.9374 - val_loss: 0.2207 - val_accuracy: 0.9214\n",
      "Epoch 14/20\n",
      "1500/1500 [==============================] - 15s 10ms/step - loss: 0.1614 - accuracy: 0.9378 - val_loss: 0.2297 - val_accuracy: 0.9215\n",
      "Epoch 15/20\n",
      "1500/1500 [==============================] - 14s 10ms/step - loss: 0.1541 - accuracy: 0.9427 - val_loss: 0.2518 - val_accuracy: 0.9170\n",
      "Epoch 16/20\n",
      "1500/1500 [==============================] - 14s 10ms/step - loss: 0.1465 - accuracy: 0.9439 - val_loss: 0.2483 - val_accuracy: 0.9229\n",
      "Epoch 17/20\n",
      "1500/1500 [==============================] - 14s 9ms/step - loss: 0.1444 - accuracy: 0.9452 - val_loss: 0.2409 - val_accuracy: 0.9219\n",
      "Epoch 18/20\n",
      "1500/1500 [==============================] - 14s 9ms/step - loss: 0.1367 - accuracy: 0.9470 - val_loss: 0.2384 - val_accuracy: 0.9230\n",
      "Epoch 19/20\n",
      "1500/1500 [==============================] - 14s 10ms/step - loss: 0.1268 - accuracy: 0.9512 - val_loss: 0.2492 - val_accuracy: 0.9243\n",
      "Epoch 20/20\n",
      "1500/1500 [==============================] - 14s 9ms/step - loss: 0.1266 - accuracy: 0.9507 - val_loss: 0.2625 - val_accuracy: 0.9253\n"
     ]
    }
   ],
   "source": [
    "model.compile(optimizer=\"adam\", loss=\"sparse_categorical_crossentropy\", metrics=\"accuracy\")\n",
    "\n",
    "check_cb = keras.callbacks.ModelCheckpoint(\"best-cnn-model.h5\")\n",
    "early_stop = keras.callbacks.EarlyStopping(patience=2, restore_best_weights=True)\n",
    "\n",
    "history = model.fit(train_scaled, train_target, verbose=1, epochs=20, validation_data=(val_scaled, val_target))"
   ]
  },
  {
   "cell_type": "markdown",
   "metadata": {},
   "source": [
    "- 훈련 시각화"
   ]
  },
  {
   "cell_type": "code",
   "execution_count": 25,
   "metadata": {},
   "outputs": [
    {
     "data": {
      "image/png": "[encoded data removed]",
      "text/plain": [
       "<Figure size 432x288 with 1 Axes>"
      ]
     },
     "metadata": {
      "needs_background": "light"
     },
     "output_type": "display_data"
    }
   ],
   "source": [
    "import matplotlib.pyplot as plt\n",
    "plt.plot(history.history['loss'], label=\"train\")\n",
    "plt.plot(history.history['val_loss'], label = \"val\")\n",
    "plt.xticks(range(1,20,2))\n",
    "plt.xlabel(\"epoch\")\n",
    "plt.ylabel(\"loss\")\n",
    "plt.legend()\n",
    "plt.show()"
   ]
  },
  {
   "cell_type": "markdown",
   "metadata": {},
   "source": [
    "- 모델 성능 점수"
   ]
  },
  {
   "cell_type": "code",
   "execution_count": 29,
   "metadata": {},
   "outputs": [
    {
     "name": "stdout",
     "output_type": "stream",
     "text": [
      "375/375 [==============================] - 1s 2ms/step - loss: 0.2625 - accuracy: 0.9253\n"
     ]
    },
    {
     "data": {
      "text/plain": [
       "[0.262450635433197, 0.9253333210945129]"
      ]
     },
     "execution_count": 29,
     "metadata": {},
     "output_type": "execute_result"
    }
   ],
   "source": [
    "model.evaluate(val_scaled, val_target)"
   ]
  },
  {
   "cell_type": "markdown",
   "metadata": {},
   "source": [
    "- 샘플 시각화"
   ]
  },
  {
   "cell_type": "code",
   "execution_count": 32,
   "metadata": {},
   "outputs": [
    {
     "data": {
      "image/png": "[encoded data removed]",
      "text/plain": [
       "<Figure size 432x288 with 1 Axes>"
      ]
     },
     "metadata": {
      "needs_background": "light"
     },
     "output_type": "display_data"
    }
   ],
   "source": [
    "plt.imshow(val_scaled[0], cmap=\"gray_r\")\n",
    "plt.show()"
   ]
  },
  {
   "cell_type": "code",
   "execution_count": 33,
   "metadata": {},
   "outputs": [
    {
     "name": "stdout",
     "output_type": "stream",
     "text": [
      "1/1 [==============================] - 0s 59ms/step\n"
     ]
    },
    {
     "data": {
      "text/plain": [
       "array([[1.5482364e-34, 0.0000000e+00, 0.0000000e+00, 0.0000000e+00,\n",
       "        0.0000000e+00, 0.0000000e+00, 0.0000000e+00, 0.0000000e+00,\n",
       "        1.0000000e+00, 0.0000000e+00]], dtype=float32)"
      ]
     },
     "execution_count": 33,
     "metadata": {},
     "output_type": "execute_result"
    }
   ],
   "source": [
    "pred = model.predict(val_scaled[0:1])\n",
    "pred"
   ]
  },
  {
   "cell_type": "code",
   "execution_count": 35,
   "metadata": {},
   "outputs": [
    {
     "data": {
      "image/png": "[encoded data removed]",
      "text/plain": [
       "<Figure size 432x288 with 1 Axes>"
      ]
     },
     "metadata": {
      "needs_background": "light"
     },
     "output_type": "display_data"
    }
   ],
   "source": [
    "plt.bar(range(1,11), pred[0])\n",
    "plt.xlabel(\"class\")\n",
    "plt.ylabel(\"proba\")\n",
    "plt.show()"
   ]
  },
  {
   "cell_type": "code",
   "execution_count": 38,
   "metadata": {},
   "outputs": [
    {
     "name": "stdout",
     "output_type": "stream",
     "text": [
      "모델 예측 값 :  가방\n",
      "실제 정답 값 :  가방\n"
     ]
    }
   ],
   "source": [
    "import numpy as np\n",
    "classes = ['티셔츠', '바지', '스웨터', '드레스', '코트','샌달', '셔츠', '스니커즈', '가방', '앵클 부츠']\n",
    "pred_idx = np.argmax(pred)\n",
    "\n",
    "print(\"모델 예측 값 : \",classes[pred_idx])\n",
    "print(\"실제 정답 값 : \",classes[val_target[0]])"
   ]
  },
  {
   "cell_type": "markdown",
   "metadata": {},
   "source": [
    "- 모델 테스트 점수"
   ]
  },
  {
   "cell_type": "code",
   "execution_count": 41,
   "metadata": {},
   "outputs": [
    {
     "name": "stdout",
     "output_type": "stream",
     "text": [
      "313/313 [==============================] - 1s 2ms/step - loss: 0.2998 - accuracy: 0.9193\n"
     ]
    },
    {
     "data": {
      "text/plain": [
       "[0.29984673857688904, 0.9193000197410583]"
      ]
     },
     "execution_count": 41,
     "metadata": {},
     "output_type": "execute_result"
    }
   ],
   "source": [
    "test_scaled = test_input.reshape(-1,28,28,1)/255.0\n",
    "\n",
    "model.evaluate(test_scaled, test_target)"
   ]
  },
  {
   "cell_type": "code",
   "execution_count": null,
   "metadata": {},
   "outputs": [],
   "source": []
  }
 ],
 "metadata": {
  "kernelspec": {
   "display_name": "Python 3.9.12 ('base')",
   "language": "python",
   "name": "python3"
  },
  "language_info": {
   "codemirror_mode": {
    "name": "ipython",
    "version": 3
   },
   "file_extension": ".py",
   "mimetype": "text/x-python",
   "name": "python",
   "nbconvert_exporter": "python",
   "pygments_lexer": "ipython3",
   "version": "3.9.12"
  },
  "orig_nbformat": 4,
  "vscode": {
   "interpreter": {
    "hash": "8df4e0e0c796e2e15924145e6441c62a115ba500877f31d29fc14fd3395fcd67"
   }
  }
 },
 "nbformat": 4,
 "nbformat_minor": 2
}

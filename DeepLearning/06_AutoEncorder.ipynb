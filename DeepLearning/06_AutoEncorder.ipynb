{
 "cells": [
  {
   "cell_type": "markdown",
   "metadata": {},
   "source": [
    "# <span style= \"color :red\"> 오토인코더 </span>\n",
    "- 정의 : 입력 데이터의 특징을 효울적으로 담아낸 이미지를 만들어 내는 알고리즘<br><br>\n"
   ]
  },
  {
   "cell_type": "markdown",
   "metadata": {},
   "source": [
    "- 생성자 모델 생성"
   ]
  },
  {
   "cell_type": "code",
   "execution_count": 3,
   "metadata": {},
   "outputs": [
    {
     "name": "stdout",
     "output_type": "stream",
     "text": [
      "Model: \"sequential_1\"\n",
      "_________________________________________________________________\n",
      " Layer (type)                Output Shape              Param #   \n",
      "=================================================================\n",
      " conv2d_3 (Conv2D)           (None, 28, 28, 16)        160       \n",
      "                                                                 \n",
      " max_pooling2d_2 (MaxPooling  (None, 14, 14, 16)       0         \n",
      " 2D)                                                             \n",
      "                                                                 \n",
      " conv2d_4 (Conv2D)           (None, 14, 14, 8)         1160      \n",
      "                                                                 \n",
      " max_pooling2d_3 (MaxPooling  (None, 7, 7, 8)          0         \n",
      " 2D)                                                             \n",
      "                                                                 \n",
      " conv2d_5 (Conv2D)           (None, 4, 4, 8)           584       \n",
      "                                                                 \n",
      " conv2d_6 (Conv2D)           (None, 4, 4, 8)           584       \n",
      "                                                                 \n",
      " up_sampling2d (UpSampling2D  (None, 8, 8, 8)          0         \n",
      " )                                                               \n",
      "                                                                 \n",
      " conv2d_7 (Conv2D)           (None, 8, 8, 8)           584       \n",
      "                                                                 \n",
      " up_sampling2d_1 (UpSampling  (None, 16, 16, 8)        0         \n",
      " 2D)                                                             \n",
      "                                                                 \n",
      " conv2d_8 (Conv2D)           (None, 16, 16, 1)         73        \n",
      "                                                                 \n",
      "=================================================================\n",
      "Total params: 3,145\n",
      "Trainable params: 3,145\n",
      "Non-trainable params: 0\n",
      "_________________________________________________________________\n"
     ]
    }
   ],
   "source": [
    "from enum import auto\n",
    "from tensorflow import keras \n",
    "autoencoder = keras.Sequential()\n",
    "\n",
    "# 인코딩 부분 \n",
    "autoencoder.add(keras.layers.Conv2D(16, kernel_size=3, padding=\"same\", input_shape=(28,28,1), activation=\"relu\"))\n",
    "autoencoder.add(keras.layers.MaxPool2D(2, padding=\"same\"))\n",
    "\n",
    "autoencoder.add(keras.layers.Conv2D(8, kernel_size=3, padding=\"same\", activation=\"relu\"))\n",
    "autoencoder.add(keras.layers.MaxPool2D(2, padding=\"same\"))\n",
    "\n",
    "autoencoder.add(keras.layers.Conv2D(8, kernel_size=3, strides =2 ,padding=\"same\", activation=\"relu\"))\n",
    "\n",
    "\n",
    "# 디코딩 부분 \n",
    "autoencoder.add(keras.layers.Conv2D(8, kernel_size=3, padding=\"same\", activation=\"relu\"))\n",
    "autoencoder.add(keras.layers.UpSampling2D())\n",
    "\n",
    "autoencoder.add(keras.layers.Conv2D(8, kernel_size=3, padding=\"same\", activation=\"relu\"))\n",
    "autoencoder.add(keras.layers.UpSampling2D())\n",
    "\n",
    "autoencoder.add(keras.layers.Conv2D(1, kernel_size=3, padding=\"same\", activation=\"sigmoid\"))\n",
    "\n",
    "# 전체 구조 확인 \n",
    "autoencoder.summary()"
   ]
  },
  {
   "cell_type": "code",
   "execution_count": null,
   "metadata": {},
   "outputs": [],
   "source": []
  }
 ],
 "metadata": {
  "kernelspec": {
   "display_name": "Python 3.9.12 ('base')",
   "language": "python",
   "name": "python3"
  },
  "language_info": {
   "codemirror_mode": {
    "name": "ipython",
    "version": 3
   },
   "file_extension": ".py",
   "mimetype": "text/x-python",
   "name": "python",
   "nbconvert_exporter": "python",
   "pygments_lexer": "ipython3",
   "version": "3.9.12"
  },
  "orig_nbformat": 4,
  "vscode": {
   "interpreter": {
    "hash": "8df4e0e0c796e2e15924145e6441c62a115ba500877f31d29fc14fd3395fcd67"
   }
  }
 },
 "nbformat": 4,
 "nbformat_minor": 2
}
